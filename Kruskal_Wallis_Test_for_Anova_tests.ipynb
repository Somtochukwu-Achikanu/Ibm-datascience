{
  "nbformat": 4,
  "nbformat_minor": 0,
  "metadata": {
    "colab": {
      "provenance": [],
      "authorship_tag": "ABX9TyMfrzFSZdnw2rQ3jKabIGEG",
      "include_colab_link": true
    },
    "kernelspec": {
      "name": "python3",
      "display_name": "Python 3"
    },
    "language_info": {
      "name": "python"
    }
  },
  "cells": [
    {
      "cell_type": "markdown",
      "metadata": {
        "id": "view-in-github",
        "colab_type": "text"
      },
      "source": [
        "<a href=\"https://colab.research.google.com/github/Somtochukwu-Achikanu/Ibm-datascience/blob/main/Kruskal_Wallis_Test_for_Anova_tests.ipynb\" target=\"_parent\"><img src=\"https://colab.research.google.com/assets/colab-badge.svg\" alt=\"Open In Colab\"/></a>"
      ]
    },
    {
      "cell_type": "markdown",
      "source": [
        "Kruskal-Wallis test is a non-parametric version of an ANOVA test, comparing the means across multiple groups."
      ],
      "metadata": {
        "id": "7ma_Xzs8pt7c"
      }
    },
    {
      "cell_type": "code",
      "execution_count": 1,
      "metadata": {
        "colab": {
          "base_uri": "https://localhost:8080/"
        },
        "id": "l0S0ohotpahf",
        "outputId": "b4a57cc6-defa-4df9-f822-923fa3aeb65a"
      },
      "outputs": [
        {
          "output_type": "stream",
          "name": "stdout",
          "text": [
            "Collecting pingouin\n",
            "  Downloading pingouin-0.5.4-py2.py3-none-any.whl (198 kB)\n",
            "\u001b[?25l     \u001b[90m━━━━━━━━━━━━━━━━━━━━━━━━━━━━━━━━━━━━━━━━\u001b[0m \u001b[32m0.0/198.9 kB\u001b[0m \u001b[31m?\u001b[0m eta \u001b[36m-:--:--\u001b[0m\r\u001b[2K     \u001b[91m━━━━━━━━━━━━━━━━\u001b[0m\u001b[90m╺\u001b[0m\u001b[90m━━━━━━━━━━━━━━━━━━━━━━━\u001b[0m \u001b[32m81.9/198.9 kB\u001b[0m \u001b[31m2.4 MB/s\u001b[0m eta \u001b[36m0:00:01\u001b[0m\r\u001b[2K     \u001b[90m━━━━━━━━━━━━━━━━━━━━━━━━━━━━━━━━━━━━━━━━\u001b[0m \u001b[32m198.9/198.9 kB\u001b[0m \u001b[31m3.5 MB/s\u001b[0m eta \u001b[36m0:00:00\u001b[0m\n",
            "\u001b[?25hRequirement already satisfied: numpy in /usr/local/lib/python3.10/dist-packages (from pingouin) (1.23.5)\n",
            "Requirement already satisfied: scipy in /usr/local/lib/python3.10/dist-packages (from pingouin) (1.11.4)\n",
            "Requirement already satisfied: pandas>=1.5 in /usr/local/lib/python3.10/dist-packages (from pingouin) (1.5.3)\n",
            "Requirement already satisfied: matplotlib in /usr/local/lib/python3.10/dist-packages (from pingouin) (3.7.1)\n",
            "Requirement already satisfied: seaborn in /usr/local/lib/python3.10/dist-packages (from pingouin) (0.13.1)\n",
            "Requirement already satisfied: statsmodels in /usr/local/lib/python3.10/dist-packages (from pingouin) (0.14.1)\n",
            "Requirement already satisfied: scikit-learn in /usr/local/lib/python3.10/dist-packages (from pingouin) (1.2.2)\n",
            "Collecting pandas-flavor (from pingouin)\n",
            "  Downloading pandas_flavor-0.6.0-py3-none-any.whl (7.2 kB)\n",
            "Requirement already satisfied: tabulate in /usr/local/lib/python3.10/dist-packages (from pingouin) (0.9.0)\n",
            "Requirement already satisfied: python-dateutil>=2.8.1 in /usr/local/lib/python3.10/dist-packages (from pandas>=1.5->pingouin) (2.8.2)\n",
            "Requirement already satisfied: pytz>=2020.1 in /usr/local/lib/python3.10/dist-packages (from pandas>=1.5->pingouin) (2023.3.post1)\n",
            "Requirement already satisfied: contourpy>=1.0.1 in /usr/local/lib/python3.10/dist-packages (from matplotlib->pingouin) (1.2.0)\n",
            "Requirement already satisfied: cycler>=0.10 in /usr/local/lib/python3.10/dist-packages (from matplotlib->pingouin) (0.12.1)\n",
            "Requirement already satisfied: fonttools>=4.22.0 in /usr/local/lib/python3.10/dist-packages (from matplotlib->pingouin) (4.47.2)\n",
            "Requirement already satisfied: kiwisolver>=1.0.1 in /usr/local/lib/python3.10/dist-packages (from matplotlib->pingouin) (1.4.5)\n",
            "Requirement already satisfied: packaging>=20.0 in /usr/local/lib/python3.10/dist-packages (from matplotlib->pingouin) (23.2)\n",
            "Requirement already satisfied: pillow>=6.2.0 in /usr/local/lib/python3.10/dist-packages (from matplotlib->pingouin) (9.4.0)\n",
            "Requirement already satisfied: pyparsing>=2.3.1 in /usr/local/lib/python3.10/dist-packages (from matplotlib->pingouin) (3.1.1)\n",
            "Requirement already satisfied: xarray in /usr/local/lib/python3.10/dist-packages (from pandas-flavor->pingouin) (2023.7.0)\n",
            "Requirement already satisfied: joblib>=1.1.1 in /usr/local/lib/python3.10/dist-packages (from scikit-learn->pingouin) (1.3.2)\n",
            "Requirement already satisfied: threadpoolctl>=2.0.0 in /usr/local/lib/python3.10/dist-packages (from scikit-learn->pingouin) (3.2.0)\n",
            "Requirement already satisfied: patsy>=0.5.4 in /usr/local/lib/python3.10/dist-packages (from statsmodels->pingouin) (0.5.6)\n",
            "Requirement already satisfied: six in /usr/local/lib/python3.10/dist-packages (from patsy>=0.5.4->statsmodels->pingouin) (1.16.0)\n",
            "Installing collected packages: pandas-flavor, pingouin\n",
            "Successfully installed pandas-flavor-0.6.0 pingouin-0.5.4\n"
          ]
        }
      ],
      "source": [
        "!pip install pingouin"
      ]
    },
    {
      "cell_type": "code",
      "source": [
        "import pandas as pd\n",
        "import pingouin"
      ],
      "metadata": {
        "id": "YGnMD2yyp3QD"
      },
      "execution_count": 2,
      "outputs": []
    },
    {
      "cell_type": "code",
      "source": [
        "late_shipment = pd.read_feather('/content/late_shipments.feather')\n",
        "print(late_shipment.head())"
      ],
      "metadata": {
        "colab": {
          "base_uri": "https://localhost:8080/"
        },
        "id": "Iorc2Su9qAX6",
        "outputId": "83588788-237c-4116-9371-e2939f3be9e1"
      },
      "execution_count": 3,
      "outputs": [
        {
          "output_type": "stream",
          "name": "stdout",
          "text": [
            "        id       country managed_by  fulfill_via vendor_inco_term  \\\n",
            "0  36203.0       Nigeria   PMO - US  Direct Drop              EXW   \n",
            "1  30998.0      Botswana   PMO - US  Direct Drop              EXW   \n",
            "2  69871.0       Vietnam   PMO - US  Direct Drop              EXW   \n",
            "3  17648.0  South Africa   PMO - US  Direct Drop              DDP   \n",
            "4   5647.0        Uganda   PMO - US  Direct Drop              EXW   \n",
            "\n",
            "  shipment_mode  late_delivery late product_group    sub_classification  ...  \\\n",
            "0           Air            1.0  Yes          HRDT              HIV test  ...   \n",
            "1           Air            0.0   No          HRDT              HIV test  ...   \n",
            "2           Air            0.0   No           ARV                 Adult  ...   \n",
            "3         Ocean            0.0   No           ARV                 Adult  ...   \n",
            "4           Air            0.0   No          HRDT  HIV test - Ancillary  ...   \n",
            "\n",
            "  line_item_quantity line_item_value pack_price unit_price  \\\n",
            "0             2996.0       266644.00      89.00       0.89   \n",
            "1               25.0          800.00      32.00       1.60   \n",
            "2            22925.0       110040.00       4.80       0.08   \n",
            "3           152535.0       361507.95       2.37       0.04   \n",
            "4              850.0            8.50       0.01       0.00   \n",
            "\n",
            "             manufacturing_site first_line_designation  weight_kilograms  \\\n",
            "0       Alere Medical Co., Ltd.                    Yes            1426.0   \n",
            "1          Trinity Biotech, Plc                    Yes              10.0   \n",
            "2  Hetero Unit III Hyderabad IN                    Yes            3723.0   \n",
            "3     Aurobindo Unit III, India                    Yes            7698.0   \n",
            "4               Inverness Japan                    Yes              56.0   \n",
            "\n",
            "   freight_cost_usd  freight_cost_groups  line_item_insurance_usd  \n",
            "0          33279.83            expensive                   373.83  \n",
            "1            559.89           reasonable                     1.72  \n",
            "2          19056.13            expensive                   181.57  \n",
            "3          11372.23            expensive                   779.41  \n",
            "4            360.00           reasonable                     0.01  \n",
            "\n",
            "[5 rows x 27 columns]\n"
          ]
        }
      ]
    },
    {
      "cell_type": "code",
      "source": [
        "# Run a Kruskal-Wallis test on weight_kilograms vs. shipment_mode\n",
        "kw_test = pingouin.kruskal(data=late_shipment,dv='weight_kilograms',between='shipment_mode')\n",
        "\n",
        "\n",
        "\n",
        "# Print the results\n",
        "print(kw_test)"
      ],
      "metadata": {
        "colab": {
          "base_uri": "https://localhost:8080/"
        },
        "id": "2mRdZFCcqVww",
        "outputId": "672d3c30-56b6-4f09-a72b-b1f68b808e1d"
      },
      "execution_count": 5,
      "outputs": [
        {
          "output_type": "stream",
          "name": "stdout",
          "text": [
            "                Source  ddof1           H         p-unc\n",
            "Kruskal  shipment_mode      2  125.096618  6.848799e-28\n"
          ]
        }
      ]
    },
    {
      "cell_type": "markdown",
      "source": [
        "Summary:The Kruskal-Wallis test yielded a very small p-value, so there is evidence that at least one of the three groups of shipment mode has a different weight distribution than the others"
      ],
      "metadata": {
        "id": "RPWcTdMnqkf8"
      }
    }
  ]
}