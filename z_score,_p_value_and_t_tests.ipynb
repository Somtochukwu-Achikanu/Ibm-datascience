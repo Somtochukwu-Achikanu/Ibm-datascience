{
  "nbformat": 4,
  "nbformat_minor": 0,
  "metadata": {
    "colab": {
      "provenance": [],
      "authorship_tag": "ABX9TyNLy8RGNS6fyZheM3+cPuIr",
      "include_colab_link": true
    },
    "kernelspec": {
      "name": "python3",
      "display_name": "Python 3"
    },
    "language_info": {
      "name": "python"
    }
  },
  "cells": [
    {
      "cell_type": "markdown",
      "metadata": {
        "id": "view-in-github",
        "colab_type": "text"
      },
      "source": [
        "<a href=\"https://colab.research.google.com/github/Somtochukwu-Achikanu/Ibm-datascience/blob/main/z_score%2C_p_value_and_t_tests.ipynb\" target=\"_parent\"><img src=\"https://colab.research.google.com/assets/colab-badge.svg\" alt=\"Open In Colab\"/></a>"
      ]
    },
    {
      "cell_type": "code",
      "execution_count": 33,
      "metadata": {
        "id": "hVPwpEXJuQ2R"
      },
      "outputs": [],
      "source": [
        "import pandas as pd\n",
        "import numpy as np\n",
        "import matplotlib.pyplot as plt"
      ]
    },
    {
      "cell_type": "code",
      "source": [
        "shipment = pd.read_feather('/content/late_shipments.feather')\n",
        "print(shipment.head())"
      ],
      "metadata": {
        "colab": {
          "base_uri": "https://localhost:8080/"
        },
        "id": "QnirNWpJurtA",
        "outputId": "51cf6a16-783e-47cd-84ff-524dd04ada4d"
      },
      "execution_count": 34,
      "outputs": [
        {
          "output_type": "stream",
          "name": "stdout",
          "text": [
            "        id       country managed_by  fulfill_via vendor_inco_term  \\\n",
            "0  36203.0       Nigeria   PMO - US  Direct Drop              EXW   \n",
            "1  30998.0      Botswana   PMO - US  Direct Drop              EXW   \n",
            "2  69871.0       Vietnam   PMO - US  Direct Drop              EXW   \n",
            "3  17648.0  South Africa   PMO - US  Direct Drop              DDP   \n",
            "4   5647.0        Uganda   PMO - US  Direct Drop              EXW   \n",
            "\n",
            "  shipment_mode  late_delivery late product_group    sub_classification  ...  \\\n",
            "0           Air            1.0  Yes          HRDT              HIV test  ...   \n",
            "1           Air            0.0   No          HRDT              HIV test  ...   \n",
            "2           Air            0.0   No           ARV                 Adult  ...   \n",
            "3         Ocean            0.0   No           ARV                 Adult  ...   \n",
            "4           Air            0.0   No          HRDT  HIV test - Ancillary  ...   \n",
            "\n",
            "  line_item_quantity line_item_value pack_price unit_price  \\\n",
            "0             2996.0       266644.00      89.00       0.89   \n",
            "1               25.0          800.00      32.00       1.60   \n",
            "2            22925.0       110040.00       4.80       0.08   \n",
            "3           152535.0       361507.95       2.37       0.04   \n",
            "4              850.0            8.50       0.01       0.00   \n",
            "\n",
            "             manufacturing_site first_line_designation  weight_kilograms  \\\n",
            "0       Alere Medical Co., Ltd.                    Yes            1426.0   \n",
            "1          Trinity Biotech, Plc                    Yes              10.0   \n",
            "2  Hetero Unit III Hyderabad IN                    Yes            3723.0   \n",
            "3     Aurobindo Unit III, India                    Yes            7698.0   \n",
            "4               Inverness Japan                    Yes              56.0   \n",
            "\n",
            "   freight_cost_usd  freight_cost_groups  line_item_insurance_usd  \n",
            "0          33279.83            expensive                   373.83  \n",
            "1            559.89           reasonable                     1.72  \n",
            "2          19056.13            expensive                   181.57  \n",
            "3          11372.23            expensive                   779.41  \n",
            "4            360.00           reasonable                     0.01  \n",
            "\n",
            "[5 rows x 27 columns]\n"
          ]
        }
      ]
    },
    {
      "cell_type": "code",
      "source": [
        "#To calculate the proportion of late shipments in the sample; that is, the mean cases where the late column is \"Yes\"\n",
        "\n",
        "late_prop_sample = (shipment['late'] =='Yes').mean()\n",
        "print(late_prop_sample)"
      ],
      "metadata": {
        "colab": {
          "base_uri": "https://localhost:8080/"
        },
        "id": "rC_rqqWxw_yD",
        "outputId": "004294c2-da36-4766-93db-1ba99fdd90fd"
      },
      "execution_count": 35,
      "outputs": [
        {
          "output_type": "stream",
          "name": "stdout",
          "text": [
            "0.061\n"
          ]
        }
      ]
    },
    {
      "cell_type": "markdown",
      "source": [
        "The proportion of late shipments in the sample is 0.061, or 6.1%"
      ],
      "metadata": {
        "id": "fFGBOBIkxpFy"
      }
    },
    {
      "cell_type": "markdown",
      "source": [
        "### Calculating Z score"
      ],
      "metadata": {
        "id": "4xYcCVQ43gBJ"
      }
    },
    {
      "cell_type": "code",
      "source": [
        "#Hypothesize that the proportion of late shipments is 6%\n",
        "\n",
        "late_prop_hyp = 0.06\n",
        "\n",
        "#Bootstraping\n",
        "boot_distribution = []\n",
        "for i in range(5000):\n",
        "  boot_distribution.append(np.mean(shipment.sample(frac=1, replace=True)['late'] == 'Yes'))\n",
        "\n",
        "#Calculate the standard error from the standard deviation of the bootstrap distribution\n",
        "std_error = np.std(boot_distribution, ddof=1)\n",
        "\n",
        "#Z-score\n",
        "z_score = (late_prop_sample - late_prop_hyp) / std_error\n",
        "print(z_score)"
      ],
      "metadata": {
        "colab": {
          "base_uri": "https://localhost:8080/"
        },
        "id": "xtpWQ88Jxq-7",
        "outputId": "051afa1d-7ac5-49fd-fb27-88edd3fd449a"
      },
      "execution_count": 36,
      "outputs": [
        {
          "output_type": "stream",
          "name": "stdout",
          "text": [
            "0.13060992516421904\n"
          ]
        }
      ]
    },
    {
      "cell_type": "markdown",
      "source": [
        " The null hypothesis,\n",
        ", is that the proportion of late shipments is six percent.\n",
        "\n",
        "The alternative hypothesis,\n",
        ", is that the proportion of late shipments is greater than six percent.\n",
        "\n",
        "Since the HA is greater then H0, the the right tailed test will be used in this analysis"
      ],
      "metadata": {
        "id": "XXCnI7i8IDfB"
      }
    },
    {
      "cell_type": "markdown",
      "source": [
        "# P-Value"
      ],
      "metadata": {
        "id": "7DmLGtvhJgb8"
      }
    },
    {
      "cell_type": "code",
      "source": [
        "#P value - probability that the proportion of late shipment is greater than 6%\n",
        "from scipy.stats import norm\n",
        "\n",
        "z_score = (late_prop_sample - late_prop_hyp) / std_error\n",
        "\n",
        "\n",
        "\n",
        "#Right tailed test\n",
        "p_value = 1 - norm.cdf(z_score, loc=0, scale=1)\n",
        "print(p_value)"
      ],
      "metadata": {
        "colab": {
          "base_uri": "https://localhost:8080/"
        },
        "id": "IRUjpkAe6MYF",
        "outputId": "c1eb565a-0f43-4a27-c868-55f3b5982f0b"
      },
      "execution_count": 37,
      "outputs": [
        {
          "output_type": "stream",
          "name": "stdout",
          "text": [
            "0.4480419454228569\n"
          ]
        }
      ]
    },
    {
      "cell_type": "markdown",
      "source": [
        "The p value is low which means that statistics is likely in the tail of the null distribution and the probabilty that late shipment proportion is greater than 6% can be obtained... This rejects the null hypothesis"
      ],
      "metadata": {
        "id": "QU5-AhAvKvP0"
      }
    },
    {
      "cell_type": "markdown",
      "source": [
        "# Significant level and confidence Level\n",
        "\n"
      ],
      "metadata": {
        "id": "sCixI-mIGeY1"
      }
    },
    {
      "cell_type": "code",
      "source": [
        "#Calculate a 95% confidence interval from late_shipments_boot_distn using the quantile method, labeling the lower and upper intervals lower and upper\n",
        "\n",
        "lower = np.quantile(boot_distribution, 0.025)\n",
        "upper = np.quantile(boot_distribution, 0.975)\n",
        "\n",
        "print((lower, upper))"
      ],
      "metadata": {
        "id": "06p-2kEBNLM2",
        "colab": {
          "base_uri": "https://localhost:8080/"
        },
        "outputId": "959fd7d0-53c2-4ba7-91b4-5ce54058dd20"
      },
      "execution_count": 38,
      "outputs": [
        {
          "output_type": "stream",
          "name": "stdout",
          "text": [
            "(0.047, 0.077)\n"
          ]
        }
      ]
    },
    {
      "cell_type": "markdown",
      "source": [
        "Does the confidence interval match up with the conclusion to stick with the original assumption that 6% is a reasonable value for the unknown population parameter?\n",
        "\n",
        "Answer: Yes, since 0.06 is included in the confidence interval range and we failed to reject the H0 due to large p-value, the results are similar\n",
        "\n",
        "if the hypothesized population parameter is within the confidence interval, you should fail to reject the null hypothesis."
      ],
      "metadata": {
        "id": "-C0nPItHH9cM"
      }
    },
    {
      "cell_type": "markdown",
      "source": [
        "# Calculating T-Test"
      ],
      "metadata": {
        "id": "BkBtA744TTF8"
      }
    },
    {
      "cell_type": "markdown",
      "source": [
        "The late_shipments dataset has been split into a \"yes\" group, where late == \"Yes\" and a \"no\" group where late == \"No\". The weight of the shipment is given in the weight_kilograms variable.\n",
        "\n",
        "The sample means for the two groups are available as xbar_no and xbar_yes. The sample standard deviations are s_no and s_yes. The sample sizes are n_no and n_yes"
      ],
      "metadata": {
        "id": "YSixbXj3Tn0n"
      }
    },
    {
      "cell_type": "code",
      "source": [
        "#Calculating sample mean of the two groups(x)\n",
        "groupby = shipment.groupby('late')['weight_kilograms'].mean()\n",
        "print(groupby)\n",
        "\n",
        "xbar_yes = shipment[shipment['late'] == 'Yes']['weight_kilograms'].mean()\n",
        "print(xbar_yes)\n",
        "\n",
        "xbar_no = shipment[shipment['late'] == 'No']['weight_kilograms'].mean()\n",
        "print(xbar_no)"
      ],
      "metadata": {
        "id": "RpjOwSpOIa13",
        "colab": {
          "base_uri": "https://localhost:8080/"
        },
        "outputId": "6748c97c-b0db-4839-a8ce-9c71e856185c"
      },
      "execution_count": 39,
      "outputs": [
        {
          "output_type": "stream",
          "name": "stdout",
          "text": [
            "late\n",
            "No     1897.791267\n",
            "Yes    2715.672131\n",
            "Name: weight_kilograms, dtype: float64\n",
            "2715.6721311475408\n",
            "1897.7912673056444\n"
          ]
        }
      ]
    },
    {
      "cell_type": "code",
      "source": [
        "#Calculating std for the two groups(s)\n",
        "std = shipment.groupby('late')['weight_kilograms'].std()\n",
        "print(std)\n",
        "\n",
        "s_yes = shipment[shipment['late'] == 'Yes']['weight_kilograms'].std()\n",
        "print(s_yes)\n",
        "\n",
        "s_no =shipment[shipment['late'] == 'No']['weight_kilograms'].mean()\n",
        "print(s_no)"
      ],
      "metadata": {
        "colab": {
          "base_uri": "https://localhost:8080/"
        },
        "id": "KUt0YVgdWI2S",
        "outputId": "1e728b8e-dd8a-4da2-f623-e549d4ca15e8"
      },
      "execution_count": 40,
      "outputs": [
        {
          "output_type": "stream",
          "name": "stdout",
          "text": [
            "late\n",
            "No     3154.039507\n",
            "Yes    2544.688211\n",
            "Name: weight_kilograms, dtype: float64\n",
            "2544.688210903328\n",
            "1897.7912673056444\n"
          ]
        }
      ]
    },
    {
      "cell_type": "code",
      "source": [
        "#Calculating the count(n)\n",
        "n = shipment.groupby('late')['weight_kilograms'].count()\n",
        "print(n)\n",
        "\n",
        "n_yes = shipment[shipment['late'] == 'Yes']['weight_kilograms'].count()\n",
        "print(n_yes)\n",
        "\n",
        "n_no =shipment[shipment['late'] == 'No']['weight_kilograms'].count()\n",
        "print(n_no)"
      ],
      "metadata": {
        "colab": {
          "base_uri": "https://localhost:8080/"
        },
        "id": "GlF4Kj1uWqxp",
        "outputId": "b7d37c23-5961-4258-c5e2-0e7c9fd01ab0"
      },
      "execution_count": 41,
      "outputs": [
        {
          "output_type": "stream",
          "name": "stdout",
          "text": [
            "late\n",
            "No     939\n",
            "Yes     61\n",
            "Name: weight_kilograms, dtype: int64\n",
            "61\n",
            "939\n"
          ]
        }
      ]
    },
    {
      "cell_type": "code",
      "source": [
        "#T- test\n",
        "\n",
        "numerator = xbar_no - xbar_yes\n",
        "denominator = np.sqrt(s_no ** 2 / n_no + s_yes ** 2 / n_yes)\n",
        "\n",
        "t_test = numerator / denominator\n",
        "print(t_test)"
      ],
      "metadata": {
        "colab": {
          "base_uri": "https://localhost:8080/"
        },
        "id": "qOniLN7BXGAW",
        "outputId": "79c5d00c-ce3d-487e-b1cf-52b8b1f45872"
      },
      "execution_count": 42,
      "outputs": [
        {
          "output_type": "stream",
          "name": "stdout",
          "text": [
            "-2.466112269007943\n"
          ]
        }
      ]
    },
    {
      "cell_type": "markdown",
      "source": [
        "## Calculating p value from t test\n",
        "\n",
        "Let recall our null hypothesis and alternate hypothesis\n",
        "Ho: The mean weight of shipments that weren't late is the same as the mean weight of shipments that were late.\n",
        "\n",
        "Ha: The mean weight of shipments that weren't late is less than the mean weight of shipments that were late\n",
        "\n",
        "\n",
        "\n",
        "\n"
      ],
      "metadata": {
        "id": "ubQWmvJNLTXf"
      }
    },
    {
      "cell_type": "code",
      "source": [
        "alpha = 0.05\n",
        "\n",
        "#state our degree of freedom\n",
        "degrees_of_freedom = 998  #(df = number of samples - 2 for a two sample t_test, 1000 - 2)\n",
        "\n",
        "#Calculate the p value\n",
        "from scipy.stats import t\n",
        "\n",
        "p_value = t.cdf (t_test, df = degrees_of_freedom)\n",
        "print(p_value)"
      ],
      "metadata": {
        "colab": {
          "base_uri": "https://localhost:8080/"
        },
        "id": "yaF-YjkMLYDc",
        "outputId": "c03bfdf7-c024-4b4a-dc68-c0dca9da4981"
      },
      "execution_count": 43,
      "outputs": [
        {
          "output_type": "stream",
          "name": "stdout",
          "text": [
            "0.006913028443258096\n"
          ]
        }
      ]
    },
    {
      "cell_type": "markdown",
      "source": [
        "Based on the p_value calculated, i will have to reject null hypothesis since p_value is less than alpha"
      ],
      "metadata": {
        "id": "hLsIosiIRZej"
      }
    }
  ]
}