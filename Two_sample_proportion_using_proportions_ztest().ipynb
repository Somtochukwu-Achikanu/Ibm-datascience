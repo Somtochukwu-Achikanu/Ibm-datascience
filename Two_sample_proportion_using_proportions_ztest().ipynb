{
  "nbformat": 4,
  "nbformat_minor": 0,
  "metadata": {
    "colab": {
      "provenance": [],
      "authorship_tag": "ABX9TyP+/6nct8DFFB2JJv82oi5H",
      "include_colab_link": true
    },
    "kernelspec": {
      "name": "python3",
      "display_name": "Python 3"
    },
    "language_info": {
      "name": "python"
    }
  },
  "cells": [
    {
      "cell_type": "markdown",
      "metadata": {
        "id": "view-in-github",
        "colab_type": "text"
      },
      "source": [
        "<a href=\"https://colab.research.google.com/github/Somtochukwu-Achikanu/Ibm-datascience/blob/main/Two_sample_proportion_using_proportions_ztest().ipynb\" target=\"_parent\"><img src=\"https://colab.research.google.com/assets/colab-badge.svg\" alt=\"Open In Colab\"/></a>"
      ]
    },
    {
      "cell_type": "code",
      "execution_count": 9,
      "metadata": {
        "id": "AiH2WpZNrR5t"
      },
      "outputs": [],
      "source": [
        "import pandas as pd\n",
        "import numpy as np\n",
        "from scipy.stats import norm"
      ]
    },
    {
      "cell_type": "code",
      "source": [
        "late_shipments = pd.read_feather('/content/late_shipments.feather')\n",
        "print(late_shipments.head())"
      ],
      "metadata": {
        "colab": {
          "base_uri": "https://localhost:8080/"
        },
        "id": "uZL3bP-KrcUd",
        "outputId": "e83ad99b-c6f8-4c83-f909-0615bcd94fc5"
      },
      "execution_count": 10,
      "outputs": [
        {
          "output_type": "stream",
          "name": "stdout",
          "text": [
            "        id       country managed_by  fulfill_via vendor_inco_term  \\\n",
            "0  36203.0       Nigeria   PMO - US  Direct Drop              EXW   \n",
            "1  30998.0      Botswana   PMO - US  Direct Drop              EXW   \n",
            "2  69871.0       Vietnam   PMO - US  Direct Drop              EXW   \n",
            "3  17648.0  South Africa   PMO - US  Direct Drop              DDP   \n",
            "4   5647.0        Uganda   PMO - US  Direct Drop              EXW   \n",
            "\n",
            "  shipment_mode  late_delivery late product_group    sub_classification  ...  \\\n",
            "0           Air            1.0  Yes          HRDT              HIV test  ...   \n",
            "1           Air            0.0   No          HRDT              HIV test  ...   \n",
            "2           Air            0.0   No           ARV                 Adult  ...   \n",
            "3         Ocean            0.0   No           ARV                 Adult  ...   \n",
            "4           Air            0.0   No          HRDT  HIV test - Ancillary  ...   \n",
            "\n",
            "  line_item_quantity line_item_value pack_price unit_price  \\\n",
            "0             2996.0       266644.00      89.00       0.89   \n",
            "1               25.0          800.00      32.00       1.60   \n",
            "2            22925.0       110040.00       4.80       0.08   \n",
            "3           152535.0       361507.95       2.37       0.04   \n",
            "4              850.0            8.50       0.01       0.00   \n",
            "\n",
            "             manufacturing_site first_line_designation  weight_kilograms  \\\n",
            "0       Alere Medical Co., Ltd.                    Yes            1426.0   \n",
            "1          Trinity Biotech, Plc                    Yes              10.0   \n",
            "2  Hetero Unit III Hyderabad IN                    Yes            3723.0   \n",
            "3     Aurobindo Unit III, India                    Yes            7698.0   \n",
            "4               Inverness Japan                    Yes              56.0   \n",
            "\n",
            "   freight_cost_usd  freight_cost_groups  line_item_insurance_usd  \n",
            "0          33279.83            expensive                   373.83  \n",
            "1            559.89           reasonable                     1.72  \n",
            "2          19056.13            expensive                   181.57  \n",
            "3          11372.23            expensive                   779.41  \n",
            "4            360.00           reasonable                     0.01  \n",
            "\n",
            "[5 rows x 27 columns]\n"
          ]
        }
      ]
    },
    {
      "cell_type": "code",
      "source": [
        "p_hats = late_shipments.groupby('freight_cost_groups')['late'].value_counts()\n",
        "print(p_hats)"
      ],
      "metadata": {
        "colab": {
          "base_uri": "https://localhost:8080/"
        },
        "id": "z460RG8Irgdp",
        "outputId": "2ece5695-e386-4f8f-8f2e-8a5d3f56bf19"
      },
      "execution_count": 11,
      "outputs": [
        {
          "output_type": "stream",
          "name": "stdout",
          "text": [
            "freight_cost_groups  late\n",
            "expensive            No      489\n",
            "                     Yes      42\n",
            "reasonable           No      439\n",
            "                     Yes      16\n",
            "Name: late, dtype: int64\n"
          ]
        }
      ]
    },
    {
      "cell_type": "code",
      "source": [
        "n_shipment = late_shipments.groupby('freight_cost_groups')['late'].count()\n",
        "print(n_shipment)"
      ],
      "metadata": {
        "colab": {
          "base_uri": "https://localhost:8080/"
        },
        "id": "vBXGOpoyrujB",
        "outputId": "5c8a28d1-461d-461c-feef-0627608b527d"
      },
      "execution_count": 12,
      "outputs": [
        {
          "output_type": "stream",
          "name": "stdout",
          "text": [
            "freight_cost_groups\n",
            "expensive     531\n",
            "reasonable    455\n",
            "Name: late, dtype: int64\n"
          ]
        }
      ]
    },
    {
      "cell_type": "code",
      "source": [
        "late_freight_group = np.array([42,16])\n",
        "n_rows = np.array([489+42, 439+16])"
      ],
      "metadata": {
        "id": "HSh6hHWBr7Qf"
      },
      "execution_count": 18,
      "outputs": []
    },
    {
      "cell_type": "code",
      "source": [
        "from statsmodels.stats.proportion import proportions_ztest\n",
        "\n",
        "z_score,p_value = proportions_ztest(count=late_freight_group, nobs=n_rows, alternative ='larger')\n",
        "print(z_score,p_value)"
      ],
      "metadata": {
        "colab": {
          "base_uri": "https://localhost:8080/"
        },
        "id": "ukAiwcZMtRaB",
        "outputId": "52673cc2-9706-4d70-d0ab-df84ad7a1226"
      },
      "execution_count": 19,
      "outputs": [
        {
          "output_type": "stream",
          "name": "stdout",
          "text": [
            "2.922648567784529 0.001735340002359578\n"
          ]
        }
      ]
    }
  ]
}