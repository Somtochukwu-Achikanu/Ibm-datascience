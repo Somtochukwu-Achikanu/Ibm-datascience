{
  "nbformat": 4,
  "nbformat_minor": 0,
  "metadata": {
    "colab": {
      "provenance": [],
      "authorship_tag": "ABX9TyOm7g5bgNjLa1wgSQR8hKd1",
      "include_colab_link": true
    },
    "kernelspec": {
      "name": "python3",
      "display_name": "Python 3"
    },
    "language_info": {
      "name": "python"
    }
  },
  "cells": [
    {
      "cell_type": "markdown",
      "metadata": {
        "id": "view-in-github",
        "colab_type": "text"
      },
      "source": [
        "<a href=\"https://colab.research.google.com/github/Somtochukwu-Achikanu/Ibm-datascience/blob/main/coffee_sampling_and_estimate.ipynb\" target=\"_parent\"><img src=\"https://colab.research.google.com/assets/colab-badge.svg\" alt=\"Open In Colab\"/></a>"
      ]
    },
    {
      "cell_type": "code",
      "execution_count": 38,
      "metadata": {
        "id": "kz1bMPXFXkOS"
      },
      "outputs": [],
      "source": [
        "import pandas as pd\n",
        "import numpy as np\n",
        "import matplotlib.pyplot as plt"
      ]
    },
    {
      "cell_type": "code",
      "source": [
        "from os import copy_file_range\n",
        "coffee_ratings = pd.read_feather('/content/coffee_ratings_full.feather')\n",
        "print(coffee_ratings.head())\n",
        "\n",
        "coffee_ratings_df = pd.DataFrame(coffee_ratings)\n",
        "print(coffee_ratings_df.head())"
      ],
      "metadata": {
        "id": "bnrV89bhXsaO",
        "colab": {
          "base_uri": "https://localhost:8080/"
        },
        "outputId": "55738dcc-2f5c-4126-e699-f14d0fd576da"
      },
      "execution_count": 39,
      "outputs": [
        {
          "output_type": "stream",
          "name": "stdout",
          "text": [
            "   total_cup_points  species                     owner country_of_origin  \\\n",
            "0             90.58  Arabica                 metad plc          Ethiopia   \n",
            "1             89.92  Arabica                 metad plc          Ethiopia   \n",
            "2             89.75  Arabica  grounds for health admin         Guatemala   \n",
            "3             89.00  Arabica       yidnekachew dabessa          Ethiopia   \n",
            "4             88.83  Arabica                 metad plc          Ethiopia   \n",
            "\n",
            "                                  farm_name lot_number       mill ico_number  \\\n",
            "0                                 metad plc       None  metad plc  2014/2015   \n",
            "1                                 metad plc       None  metad plc  2014/2015   \n",
            "2  san marcos barrancas \"san cristobal cuch       None       None       None   \n",
            "3     yidnekachew dabessa coffee plantation       None    wolensu       None   \n",
            "4                                 metad plc       None  metad plc  2014/2015   \n",
            "\n",
            "                                 company       altitude  ...  color  \\\n",
            "0      metad agricultural developmet plc      1950-2200  ...  Green   \n",
            "1      metad agricultural developmet plc      1950-2200  ...  Green   \n",
            "2                                   None  1600 - 1800 m  ...   None   \n",
            "3  yidnekachew debessa coffee plantation      1800-2200  ...  Green   \n",
            "4      metad agricultural developmet plc      1950-2200  ...  Green   \n",
            "\n",
            "  category_two_defects        expiration                  certification_body  \\\n",
            "0                  0.0   April 3rd, 2016  METAD Agricultural Development plc   \n",
            "1                  1.0   April 3rd, 2016  METAD Agricultural Development plc   \n",
            "2                  0.0    May 31st, 2011        Specialty Coffee Association   \n",
            "3                  2.0  March 25th, 2016  METAD Agricultural Development plc   \n",
            "4                  2.0   April 3rd, 2016  METAD Agricultural Development plc   \n",
            "\n",
            "                      certification_address  \\\n",
            "0  309fcf77415a3661ae83e027f7e5f05dad786e44   \n",
            "1  309fcf77415a3661ae83e027f7e5f05dad786e44   \n",
            "2  36d0d00a3724338ba7937c52a378d085f2172daa   \n",
            "3  309fcf77415a3661ae83e027f7e5f05dad786e44   \n",
            "4  309fcf77415a3661ae83e027f7e5f05dad786e44   \n",
            "\n",
            "                      certification_contact unit_of_measurement  \\\n",
            "0  19fef5a731de2db57d16da10287413f5f99bc2dd                   m   \n",
            "1  19fef5a731de2db57d16da10287413f5f99bc2dd                   m   \n",
            "2  0878a7d4b9d35ddbf0fe2ce69a2062cceb45a660                   m   \n",
            "3  19fef5a731de2db57d16da10287413f5f99bc2dd                   m   \n",
            "4  19fef5a731de2db57d16da10287413f5f99bc2dd                   m   \n",
            "\n",
            "  altitude_low_meters altitude_high_meters altitude_mean_meters  \n",
            "0              1950.0               2200.0               2075.0  \n",
            "1              1950.0               2200.0               2075.0  \n",
            "2              1600.0               1800.0               1700.0  \n",
            "3              1800.0               2200.0               2000.0  \n",
            "4              1950.0               2200.0               2075.0  \n",
            "\n",
            "[5 rows x 43 columns]\n",
            "   total_cup_points  species                     owner country_of_origin  \\\n",
            "0             90.58  Arabica                 metad plc          Ethiopia   \n",
            "1             89.92  Arabica                 metad plc          Ethiopia   \n",
            "2             89.75  Arabica  grounds for health admin         Guatemala   \n",
            "3             89.00  Arabica       yidnekachew dabessa          Ethiopia   \n",
            "4             88.83  Arabica                 metad plc          Ethiopia   \n",
            "\n",
            "                                  farm_name lot_number       mill ico_number  \\\n",
            "0                                 metad plc       None  metad plc  2014/2015   \n",
            "1                                 metad plc       None  metad plc  2014/2015   \n",
            "2  san marcos barrancas \"san cristobal cuch       None       None       None   \n",
            "3     yidnekachew dabessa coffee plantation       None    wolensu       None   \n",
            "4                                 metad plc       None  metad plc  2014/2015   \n",
            "\n",
            "                                 company       altitude  ...  color  \\\n",
            "0      metad agricultural developmet plc      1950-2200  ...  Green   \n",
            "1      metad agricultural developmet plc      1950-2200  ...  Green   \n",
            "2                                   None  1600 - 1800 m  ...   None   \n",
            "3  yidnekachew debessa coffee plantation      1800-2200  ...  Green   \n",
            "4      metad agricultural developmet plc      1950-2200  ...  Green   \n",
            "\n",
            "  category_two_defects        expiration                  certification_body  \\\n",
            "0                  0.0   April 3rd, 2016  METAD Agricultural Development plc   \n",
            "1                  1.0   April 3rd, 2016  METAD Agricultural Development plc   \n",
            "2                  0.0    May 31st, 2011        Specialty Coffee Association   \n",
            "3                  2.0  March 25th, 2016  METAD Agricultural Development plc   \n",
            "4                  2.0   April 3rd, 2016  METAD Agricultural Development plc   \n",
            "\n",
            "                      certification_address  \\\n",
            "0  309fcf77415a3661ae83e027f7e5f05dad786e44   \n",
            "1  309fcf77415a3661ae83e027f7e5f05dad786e44   \n",
            "2  36d0d00a3724338ba7937c52a378d085f2172daa   \n",
            "3  309fcf77415a3661ae83e027f7e5f05dad786e44   \n",
            "4  309fcf77415a3661ae83e027f7e5f05dad786e44   \n",
            "\n",
            "                      certification_contact unit_of_measurement  \\\n",
            "0  19fef5a731de2db57d16da10287413f5f99bc2dd                   m   \n",
            "1  19fef5a731de2db57d16da10287413f5f99bc2dd                   m   \n",
            "2  0878a7d4b9d35ddbf0fe2ce69a2062cceb45a660                   m   \n",
            "3  19fef5a731de2db57d16da10287413f5f99bc2dd                   m   \n",
            "4  19fef5a731de2db57d16da10287413f5f99bc2dd                   m   \n",
            "\n",
            "  altitude_low_meters altitude_high_meters altitude_mean_meters  \n",
            "0              1950.0               2200.0               2075.0  \n",
            "1              1950.0               2200.0               2075.0  \n",
            "2              1600.0               1800.0               1700.0  \n",
            "3              1800.0               2200.0               2000.0  \n",
            "4              1950.0               2200.0               2075.0  \n",
            "\n",
            "[5 rows x 43 columns]\n"
          ]
        }
      ]
    },
    {
      "cell_type": "code",
      "source": [
        "print(coffee_ratings_df.columns)"
      ],
      "metadata": {
        "colab": {
          "base_uri": "https://localhost:8080/"
        },
        "id": "gUNit2bb7oCt",
        "outputId": "6e1f0a37-2c84-4613-e874-ea0282f8261d"
      },
      "execution_count": 40,
      "outputs": [
        {
          "output_type": "stream",
          "name": "stdout",
          "text": [
            "Index(['total_cup_points', 'species', 'owner', 'country_of_origin',\n",
            "       'farm_name', 'lot_number', 'mill', 'ico_number', 'company', 'altitude',\n",
            "       'region', 'producer', 'number_of_bags', 'bag_weight',\n",
            "       'in_country_partner', 'harvest_year', 'grading_date', 'owner_1',\n",
            "       'variety', 'processing_method', 'aroma', 'flavor', 'aftertaste',\n",
            "       'acidity', 'body', 'balance', 'uniformity', 'clean_cup', 'sweetness',\n",
            "       'cupper_points', 'moisture', 'category_one_defects', 'quakers', 'color',\n",
            "       'category_two_defects', 'expiration', 'certification_body',\n",
            "       'certification_address', 'certification_contact', 'unit_of_measurement',\n",
            "       'altitude_low_meters', 'altitude_high_meters', 'altitude_mean_meters'],\n",
            "      dtype='object')\n"
          ]
        }
      ]
    },
    {
      "cell_type": "markdown",
      "source": [
        "### total_cup_points vs flavour"
      ],
      "metadata": {
        "id": "3n24MLIq8Is4"
      }
    },
    {
      "cell_type": "code",
      "source": [
        "points_vs_flavour_population = coffee_ratings_df[['total_cup_points','flavor']]\n",
        "print(points_vs_flavour_population)"
      ],
      "metadata": {
        "colab": {
          "base_uri": "https://localhost:8080/"
        },
        "id": "5hEUwXHn8O9Z",
        "outputId": "f9130934-ca64-4a39-b6dc-712b3c755654"
      },
      "execution_count": 41,
      "outputs": [
        {
          "output_type": "stream",
          "name": "stdout",
          "text": [
            "      total_cup_points  flavor\n",
            "0                90.58    8.83\n",
            "1                89.92    8.67\n",
            "2                89.75    8.50\n",
            "3                89.00    8.58\n",
            "4                88.83    8.50\n",
            "...                ...     ...\n",
            "1333             78.75    7.58\n",
            "1334             78.08    7.67\n",
            "1335             77.17    7.33\n",
            "1336             75.08    6.83\n",
            "1337             73.75    6.67\n",
            "\n",
            "[1338 rows x 2 columns]\n"
          ]
        }
      ]
    },
    {
      "cell_type": "code",
      "source": [
        "#sampling the data by randoming selecting subsets\n",
        "points_vs_flavour_sampling = points_vs_flavour_population.sample(n=10)\n",
        "print(points_vs_flavour_sampling)"
      ],
      "metadata": {
        "colab": {
          "base_uri": "https://localhost:8080/"
        },
        "id": "vk_zOlwk8qYH",
        "outputId": "0b516fc9-2ddf-4ab3-a9fb-0d70a7fcecef"
      },
      "execution_count": 42,
      "outputs": [
        {
          "output_type": "stream",
          "name": "stdout",
          "text": [
            "      total_cup_points  flavor\n",
            "401              83.33    7.75\n",
            "404              83.33    7.67\n",
            "953              81.33    7.33\n",
            "160              84.50    7.92\n",
            "179              84.33    7.58\n",
            "950              81.33    7.33\n",
            "1198             79.00    7.17\n",
            "1248             77.83    6.83\n",
            "623              82.67    8.00\n",
            "1258             77.17    7.00\n"
          ]
        }
      ]
    },
    {
      "cell_type": "markdown",
      "source": [
        "Population parameter"
      ],
      "metadata": {
        "id": "XzTetGQA9PF4"
      }
    },
    {
      "cell_type": "code",
      "source": [
        "#series sampling\n",
        "total_cup_sampling = coffee_ratings_df['total_cup_points'].sample(n=10)\n",
        "print(total_cup_sampling)"
      ],
      "metadata": {
        "colab": {
          "base_uri": "https://localhost:8080/"
        },
        "id": "qfBzmbei-EUZ",
        "outputId": "0d4640c1-2960-480a-e4e4-21c319706b77"
      },
      "execution_count": 43,
      "outputs": [
        {
          "output_type": "stream",
          "name": "stdout",
          "text": [
            "859     81.75\n",
            "304     83.75\n",
            "1046    80.75\n",
            "1079    80.42\n",
            "1103    80.25\n",
            "674     82.42\n",
            "1073    80.50\n",
            "136     84.67\n",
            "114     84.92\n",
            "868     81.75\n",
            "Name: total_cup_points, dtype: float64\n"
          ]
        }
      ]
    },
    {
      "cell_type": "code",
      "source": [
        "population_parameter = np.mean(points_vs_flavour_population['total_cup_points'])\n",
        "print(population_parameter)"
      ],
      "metadata": {
        "colab": {
          "base_uri": "https://localhost:8080/"
        },
        "id": "LuGWzWpH9RNS",
        "outputId": "1e0a0cc1-3bdb-41ae-b7f3-36e9692ef0fa"
      },
      "execution_count": 44,
      "outputs": [
        {
          "output_type": "stream",
          "name": "stdout",
          "text": [
            "82.15120328849028\n"
          ]
        }
      ]
    },
    {
      "cell_type": "code",
      "source": [
        "sampling_parameter = np.mean(total_cup_sampling)\n",
        "print(sampling_parameter)"
      ],
      "metadata": {
        "colab": {
          "base_uri": "https://localhost:8080/"
        },
        "id": "WGbGmgNd9q_E",
        "outputId": "9b429b70-9061-4378-9b81-b96f5cc188dc"
      },
      "execution_count": 45,
      "outputs": [
        {
          "output_type": "stream",
          "name": "stdout",
          "text": [
            "82.118\n"
          ]
        }
      ]
    },
    {
      "cell_type": "code",
      "source": [
        "#Mean calculations\n",
        "\n",
        "print(points_vs_flavour_population['flavor'].mean())\n",
        "\n",
        "print(points_vs_flavour_sampling['flavor'].mean())"
      ],
      "metadata": {
        "colab": {
          "base_uri": "https://localhost:8080/"
        },
        "id": "5WfhQgG8--V-",
        "outputId": "c24752e0-ac1f-4c1f-f8ca-43d331c337e3"
      },
      "execution_count": 46,
      "outputs": [
        {
          "output_type": "stream",
          "name": "stdout",
          "text": [
            "7.526046337817639\n",
            "7.458\n"
          ]
        }
      ]
    },
    {
      "cell_type": "markdown",
      "source": [
        "# Convenience sampling"
      ],
      "metadata": {
        "id": "1bbUgPZ_I_CG"
      }
    },
    {
      "cell_type": "code",
      "source": [
        "#Taking the mean of the total_cup_points\n",
        "print(coffee_ratings_df['total_cup_points'].mean())"
      ],
      "metadata": {
        "colab": {
          "base_uri": "https://localhost:8080/"
        },
        "id": "IuHJeFI2JL3S",
        "outputId": "35dc0dbe-9912-4243-ad96-feda0188037d"
      },
      "execution_count": 47,
      "outputs": [
        {
          "output_type": "stream",
          "name": "stdout",
          "text": [
            "82.15120328849028\n"
          ]
        }
      ]
    },
    {
      "cell_type": "code",
      "source": [
        "#Pick the first 10 coffe ratings\n",
        "coffee_rating_first10 = coffee_ratings_df.head(10)\n",
        "print(coffee_rating_first10)\n",
        "\n",
        "#Taking the mean of the total_cup_points\n",
        "print(coffee_rating_first10['total_cup_points'].mean())"
      ],
      "metadata": {
        "colab": {
          "base_uri": "https://localhost:8080/"
        },
        "id": "hwA0mE0QJiYz",
        "outputId": "6d7719de-8e71-4e5c-e98e-95d04aae06d7"
      },
      "execution_count": 48,
      "outputs": [
        {
          "output_type": "stream",
          "name": "stdout",
          "text": [
            "   total_cup_points  species                        owner country_of_origin  \\\n",
            "0             90.58  Arabica                    metad plc          Ethiopia   \n",
            "1             89.92  Arabica                    metad plc          Ethiopia   \n",
            "2             89.75  Arabica     grounds for health admin         Guatemala   \n",
            "3             89.00  Arabica          yidnekachew dabessa          Ethiopia   \n",
            "4             88.83  Arabica                    metad plc          Ethiopia   \n",
            "5             88.83  Arabica                    ji-ae ahn            Brazil   \n",
            "6             88.75  Arabica                hugo valdivia              Peru   \n",
            "7             88.67  Arabica  ethiopia commodity exchange          Ethiopia   \n",
            "8             88.42  Arabica  ethiopia commodity exchange          Ethiopia   \n",
            "9             88.25  Arabica       diamond enterprise plc          Ethiopia   \n",
            "\n",
            "                                  farm_name lot_number               mill  \\\n",
            "0                                 metad plc       None          metad plc   \n",
            "1                                 metad plc       None          metad plc   \n",
            "2  san marcos barrancas \"san cristobal cuch       None               None   \n",
            "3     yidnekachew dabessa coffee plantation       None            wolensu   \n",
            "4                                 metad plc       None          metad plc   \n",
            "5                                      None       None               None   \n",
            "6                                      None       None                hvc   \n",
            "7                                     aolme       None            c.p.w.e   \n",
            "8                                     aolme       None            c.p.w.e   \n",
            "9                         tulla coffee farm       None  tulla coffee farm   \n",
            "\n",
            "  ico_number                                company       altitude  ...  \\\n",
            "0  2014/2015      metad agricultural developmet plc      1950-2200  ...   \n",
            "1  2014/2015      metad agricultural developmet plc      1950-2200  ...   \n",
            "2       None                                   None  1600 - 1800 m  ...   \n",
            "3       None  yidnekachew debessa coffee plantation      1800-2200  ...   \n",
            "4  2014/2015      metad agricultural developmet plc      1950-2200  ...   \n",
            "5       None                                   None           None  ...   \n",
            "6       None  richmond investment-coffee department           None  ...   \n",
            "7   010/0338                                   None      1570-1700  ...   \n",
            "8   010/0338                                   None      1570-1700  ...   \n",
            "9    2014/15                 diamond enterprise plc      1795-1850  ...   \n",
            "\n",
            "          color category_two_defects            expiration  \\\n",
            "0         Green                  0.0       April 3rd, 2016   \n",
            "1         Green                  1.0       April 3rd, 2016   \n",
            "2          None                  0.0        May 31st, 2011   \n",
            "3         Green                  2.0      March 25th, 2016   \n",
            "4         Green                  2.0       April 3rd, 2016   \n",
            "5  Bluish-Green                  1.0   September 3rd, 2014   \n",
            "6  Bluish-Green                  0.0  September 17th, 2013   \n",
            "7          None                  0.0   September 2nd, 2011   \n",
            "8          None                  0.0   September 2nd, 2011   \n",
            "9         Green                  4.0      March 29th, 2016   \n",
            "\n",
            "                   certification_body  \\\n",
            "0  METAD Agricultural Development plc   \n",
            "1  METAD Agricultural Development plc   \n",
            "2        Specialty Coffee Association   \n",
            "3  METAD Agricultural Development plc   \n",
            "4  METAD Agricultural Development plc   \n",
            "5  Specialty Coffee Institute of Asia   \n",
            "6  Specialty Coffee Institute of Asia   \n",
            "7         Ethiopia Commodity Exchange   \n",
            "8         Ethiopia Commodity Exchange   \n",
            "9  METAD Agricultural Development plc   \n",
            "\n",
            "                      certification_address  \\\n",
            "0  309fcf77415a3661ae83e027f7e5f05dad786e44   \n",
            "1  309fcf77415a3661ae83e027f7e5f05dad786e44   \n",
            "2  36d0d00a3724338ba7937c52a378d085f2172daa   \n",
            "3  309fcf77415a3661ae83e027f7e5f05dad786e44   \n",
            "4  309fcf77415a3661ae83e027f7e5f05dad786e44   \n",
            "5  726e4891cf2c9a4848768bd34b668124d12c4224   \n",
            "6  726e4891cf2c9a4848768bd34b668124d12c4224   \n",
            "7  a176532400aebdc345cf3d870f84ed3ecab6249e   \n",
            "8  a176532400aebdc345cf3d870f84ed3ecab6249e   \n",
            "9  309fcf77415a3661ae83e027f7e5f05dad786e44   \n",
            "\n",
            "                      certification_contact unit_of_measurement  \\\n",
            "0  19fef5a731de2db57d16da10287413f5f99bc2dd                   m   \n",
            "1  19fef5a731de2db57d16da10287413f5f99bc2dd                   m   \n",
            "2  0878a7d4b9d35ddbf0fe2ce69a2062cceb45a660                   m   \n",
            "3  19fef5a731de2db57d16da10287413f5f99bc2dd                   m   \n",
            "4  19fef5a731de2db57d16da10287413f5f99bc2dd                   m   \n",
            "5  b70da261fcc84831e3e9620c30a8701540abc200                   m   \n",
            "6  b70da261fcc84831e3e9620c30a8701540abc200                   m   \n",
            "7  61bbaf6a9f341e5782b8e7bd3ebf76aac89fe24b                   m   \n",
            "8  61bbaf6a9f341e5782b8e7bd3ebf76aac89fe24b                   m   \n",
            "9  19fef5a731de2db57d16da10287413f5f99bc2dd                   m   \n",
            "\n",
            "  altitude_low_meters altitude_high_meters altitude_mean_meters  \n",
            "0              1950.0               2200.0               2075.0  \n",
            "1              1950.0               2200.0               2075.0  \n",
            "2              1600.0               1800.0               1700.0  \n",
            "3              1800.0               2200.0               2000.0  \n",
            "4              1950.0               2200.0               2075.0  \n",
            "5                 NaN                  NaN                  NaN  \n",
            "6                 NaN                  NaN                  NaN  \n",
            "7              1570.0               1700.0               1635.0  \n",
            "8              1570.0               1700.0               1635.0  \n",
            "9              1795.0               1850.0               1822.5  \n",
            "\n",
            "[10 rows x 43 columns]\n",
            "89.1\n"
          ]
        }
      ]
    },
    {
      "cell_type": "markdown",
      "source": [
        "The discrepancy in mean suggests that coffes with higher ratings are at the top of the dataset"
      ],
      "metadata": {
        "id": "HG1ZsfHvKNeD"
      }
    },
    {
      "cell_type": "markdown",
      "source": [
        "# Visualizing selection bias"
      ],
      "metadata": {
        "id": "AZPyU6NeKb-m"
      }
    },
    {
      "cell_type": "code",
      "source": [
        "#Population sampling\n",
        "\n",
        "coffee_ratings_df['total_cup_points'].hist(bins=np.arange(59,93,2))\n",
        "plt.show()"
      ],
      "metadata": {
        "colab": {
          "base_uri": "https://localhost:8080/",
          "height": 430
        },
        "id": "5SItBWQ3K7Lc",
        "outputId": "fa8557da-6172-4fa1-a874-9451610b046e"
      },
      "execution_count": 49,
      "outputs": [
        {
          "output_type": "display_data",
          "data": {
            "text/plain": [
              "<Figure size 640x480 with 1 Axes>"
            ],
            "image/png": "[encoded data removed]"
          },
          "metadata": {}
        }
      ]
    },
    {
      "cell_type": "code",
      "source": [
        "#Convience sampling\n",
        "\n",
        "coffee_rating_first10['total_cup_points'].hist(bins=np.arange(59,93,2))\n",
        "plt.show()"
      ],
      "metadata": {
        "colab": {
          "base_uri": "https://localhost:8080/",
          "height": 430
        },
        "id": "XPoa_BKzKgaL",
        "outputId": "141323f3-8c38-4661-9f87-51264a4727a0"
      },
      "execution_count": 50,
      "outputs": [
        {
          "output_type": "display_data",
          "data": {
            "text/plain": [
              "<Figure size 640x480 with 1 Axes>"
            ],
            "image/png": "[encoded data removed]"
          },
          "metadata": {}
        }
      ]
    },
    {
      "cell_type": "code",
      "source": [
        "#Random sampling\n",
        "\n",
        "coffee_rating_random = coffee_ratings_df.sample(n=10)\n",
        "\n",
        "coffee_rating_random['total_cup_points'].hist(bins=np.arange(59, 93, 2))\n",
        "plt.show()"
      ],
      "metadata": {
        "colab": {
          "base_uri": "https://localhost:8080/",
          "height": 430
        },
        "id": "uxMkSVE2LZXu",
        "outputId": "0e0677ce-1028-443a-a92e-61da500dd88e"
      },
      "execution_count": 51,
      "outputs": [
        {
          "output_type": "display_data",
          "data": {
            "text/plain": [
              "<Figure size 640x480 with 1 Axes>"
            ],
            "image/png": "[encoded data removed]"
          },
          "metadata": {}
        }
      ]
    },
    {
      "cell_type": "markdown",
      "source": [
        "# Simple Random sampling and Systematic Sampling"
      ],
      "metadata": {
        "id": "xOWMMuuTXwX5"
      }
    },
    {
      "cell_type": "code",
      "source": [
        "#Simple random sampling\n",
        "\n",
        "random_sampling = coffee_ratings_df.sample(n=10, random_state=19000113)\n",
        "print(random_sampling)"
      ],
      "metadata": {
        "colab": {
          "base_uri": "https://localhost:8080/"
        },
        "id": "x6GRX01KX44r",
        "outputId": "787a65ad-d5df-4110-967b-0c1d0bbc75f3"
      },
      "execution_count": 52,
      "outputs": [
        {
          "output_type": "stream",
          "name": "stdout",
          "text": [
            "      total_cup_points  species                           owner  \\\n",
            "437              83.25  Arabica  exportadora de cafe condor s.a   \n",
            "285              83.83  Arabica                 ipanema coffees   \n",
            "784              82.08  Arabica                   cafe politico   \n",
            "648              82.58  Arabica  exportadora de cafe condor s.a   \n",
            "155              84.58  Arabica  exportadora de cafe condor s.a   \n",
            "987              81.08  Arabica                  gregorio sebba   \n",
            "495              83.08  Arabica                     chris finch   \n",
            "1255             77.33  Arabica       israel eduardo paz garcia   \n",
            "712              82.33  Arabica                 ipanema coffees   \n",
            "835              81.83  Arabica                 gabriel barbara   \n",
            "\n",
            "     country_of_origin                 farm_name lot_number  \\\n",
            "437           Colombia                      None       None   \n",
            "285             Brazil         fazenda rio verde       None   \n",
            "784           Colombia                      None       None   \n",
            "648           Colombia                      None       None   \n",
            "155           Colombia                   various       None   \n",
            "987             Brazil  fazenda são josé mirante         14   \n",
            "495          Guatemala                      None       None   \n",
            "1255            Mexico                el naranjo       None   \n",
            "712             Brazil                 rio verde       None   \n",
            "835             Brazil                    helena   2017/001   \n",
            "\n",
            "                                       mill      ico_number  \\\n",
            "437   trilladora bonanza - armenia quindioa       3-68-0205   \n",
            "285                         ipanema coffees   002/4177/0121   \n",
            "784                                    None       3-59-1656   \n",
            "648                     trilladora boananza       3-68-0140   \n",
            "155                     trilladora boananza       3-68-0005   \n",
            "987                          garca armazens            None   \n",
            "495                                    None     11/851/0022   \n",
            "1255             zaragoza itundujia, oaxaca               0   \n",
            "712                         ipanema coffees   002/1660/0107   \n",
            "835                                   copag  02/0143-0/0292   \n",
            "\n",
            "                             company       altitude  ...  color  \\\n",
            "437                             None  1600-1800msnm  ...   None   \n",
            "285                  ipanema coffees           1260  ...  Green   \n",
            "784                    cafe politico           None  ...  Green   \n",
            "648   exportadora de cafe condor s.a      1750 msnm  ...  Green   \n",
            "155   exportadora de cafe condor s.a      1800 msnm  ...  Green   \n",
            "987                   garca armazens            695  ...  Green   \n",
            "495                             None           None  ...   None   \n",
            "1255                 cafeorganico.mx           1500  ...   None   \n",
            "712                  ipanema coffees           1268  ...  Green   \n",
            "835                    volcafe ltda.            973  ...  Green   \n",
            "\n",
            "     category_two_defects            expiration  \\\n",
            "437                   0.0       June 13th, 2012   \n",
            "285                   0.0   December 26th, 2014   \n",
            "784                   0.0  September 12th, 2015   \n",
            "648                   0.0   February 27th, 2014   \n",
            "155                   6.0     October 9th, 2013   \n",
            "987                   8.0       June 21st, 2018   \n",
            "495                   1.0   November 11th, 2011   \n",
            "1255                  5.0  September 13th, 2013   \n",
            "712                   0.0     October 7th, 2016   \n",
            "835                   3.0    January 20th, 2018   \n",
            "\n",
            "                       certification_body  \\\n",
            "437                              Almacafé   \n",
            "285          Specialty Coffee Association   \n",
            "784          Specialty Coffee Association   \n",
            "648                              Almacafé   \n",
            "155                              Almacafé   \n",
            "987          Specialty Coffee Association   \n",
            "495          Specialty Coffee Association   \n",
            "1255                              AMECAFE   \n",
            "712          Specialty Coffee Association   \n",
            "835   Brazil Specialty Coffee Association   \n",
            "\n",
            "                         certification_address  \\\n",
            "437   e493c36c2d076bf273064f7ac23ad562af257a25   \n",
            "285   36d0d00a3724338ba7937c52a378d085f2172daa   \n",
            "784   36d0d00a3724338ba7937c52a378d085f2172daa   \n",
            "648   e493c36c2d076bf273064f7ac23ad562af257a25   \n",
            "155   e493c36c2d076bf273064f7ac23ad562af257a25   \n",
            "987   36d0d00a3724338ba7937c52a378d085f2172daa   \n",
            "495   36d0d00a3724338ba7937c52a378d085f2172daa   \n",
            "1255  59e396ad6e22a1c22b248f958e1da2bd8af85272   \n",
            "712   36d0d00a3724338ba7937c52a378d085f2172daa   \n",
            "835   3297cfa4c538e3dd03f72cc4082c54f7999e1f9d   \n",
            "\n",
            "                         certification_contact unit_of_measurement  \\\n",
            "437   70d3c0c26f89e00fdae6fb39ff54f0d2eb1c38ab                   m   \n",
            "285   0878a7d4b9d35ddbf0fe2ce69a2062cceb45a660                   m   \n",
            "784   0878a7d4b9d35ddbf0fe2ce69a2062cceb45a660                   m   \n",
            "648   70d3c0c26f89e00fdae6fb39ff54f0d2eb1c38ab                   m   \n",
            "155   70d3c0c26f89e00fdae6fb39ff54f0d2eb1c38ab                   m   \n",
            "987   0878a7d4b9d35ddbf0fe2ce69a2062cceb45a660                   m   \n",
            "495   0878a7d4b9d35ddbf0fe2ce69a2062cceb45a660                   m   \n",
            "1255  0eb4ee5b3f47b20b049548a2fd1e7d4a2b70d0a7                   m   \n",
            "712   0878a7d4b9d35ddbf0fe2ce69a2062cceb45a660                   m   \n",
            "835   8900f0bf1d0b2bafe6807a73562c7677d57eb980                   m   \n",
            "\n",
            "     altitude_low_meters altitude_high_meters altitude_mean_meters  \n",
            "437               1600.0               1800.0               1700.0  \n",
            "285               1260.0               1260.0               1260.0  \n",
            "784                  NaN                  NaN                  NaN  \n",
            "648               1750.0               1750.0               1750.0  \n",
            "155               1800.0               1800.0               1800.0  \n",
            "987                695.0                695.0                695.0  \n",
            "495                  NaN                  NaN                  NaN  \n",
            "1255              1500.0               1500.0               1500.0  \n",
            "712               1268.0               1268.0               1268.0  \n",
            "835                973.0                973.0                973.0  \n",
            "\n",
            "[10 rows x 43 columns]\n"
          ]
        }
      ]
    },
    {
      "cell_type": "code",
      "source": [
        "#systematic Sampling - Defining the Interval\n",
        "sample_size = 5\n",
        "population_size = len(coffee_ratings_df)\n",
        "print(population_size)\n",
        "\n",
        "interval = population_size // sample_size #//-Quotient which only gives the whole number and forgets the fraction\n",
        "print(interval)"
      ],
      "metadata": {
        "colab": {
          "base_uri": "https://localhost:8080/"
        },
        "id": "A8rcVb4TYOmj",
        "outputId": "e762cad7-fe05-49ce-da1b-9ba33f494603"
      },
      "execution_count": 53,
      "outputs": [
        {
          "output_type": "stream",
          "name": "stdout",
          "text": [
            "1338\n",
            "267\n"
          ]
        }
      ]
    },
    {
      "cell_type": "markdown",
      "source": [
        "### To select a systematic sample of 5 samples, i will select every 267th coffee in the dataset"
      ],
      "metadata": {
        "id": "pw6UPwvYY5oG"
      }
    },
    {
      "cell_type": "code",
      "source": [
        "print(coffee_ratings_df.iloc[::interval])"
      ],
      "metadata": {
        "colab": {
          "base_uri": "https://localhost:8080/"
        },
        "id": "pNNc6sMVZKaq",
        "outputId": "f30c7466-d8f4-4869-83e1-e244a94129b5"
      },
      "execution_count": 54,
      "outputs": [
        {
          "output_type": "stream",
          "name": "stdout",
          "text": [
            "      total_cup_points  species                             owner  \\\n",
            "0                90.58  Arabica                         metad plc   \n",
            "267              83.92  Arabica  federacion nacional de cafeteros   \n",
            "534              82.92  Arabica      consejo salvadoreño del café   \n",
            "801              82.00  Arabica            lin, che-hao krude 林哲豪   \n",
            "1068             80.50  Arabica          cqi taiwan icp cqi台灣合作夥伴   \n",
            "1335             77.17  Robusta                       james moore   \n",
            "\n",
            "     country_of_origin                                     farm_name  \\\n",
            "0             Ethiopia                                     metad plc   \n",
            "267           Colombia                                          None   \n",
            "534        El Salvador                                santa josefita   \n",
            "801             Taiwan  you siang coffee farmtainan, taiwan 台灣台南優香咖啡   \n",
            "1068            Taiwan                                           王秋金   \n",
            "1335     United States                               fazenda cazengo   \n",
            "\n",
            "     lot_number                                          mill  ico_number  \\\n",
            "0          None                                     metad plc   2014/2015   \n",
            "267        None                                          None     01-1969   \n",
            "534       1-198                          beneficio cuzcachapa  09-030-273   \n",
            "801        None  you siang coffee farmtainan, taiwan 台灣台南優香咖啡      Taiwan   \n",
            "1068          1                                           non        None   \n",
            "1335       None                                  cafe cazengo        None   \n",
            "\n",
            "                                company    altitude  ...       color  \\\n",
            "0     metad agricultural developmet plc   1950-2200  ...       Green   \n",
            "267    federacion nacional de cafeteros        None  ...        None   \n",
            "534       soc. coop. cuzcachapa de r.l.        1350  ...       Green   \n",
            "801               red on tree co., ltd.        600m  ...       Green   \n",
            "1068                                王秋金          50  ...  Blue-Green   \n",
            "1335            global opportunity fund  795 meters  ...        None   \n",
            "\n",
            "     category_two_defects           expiration  \\\n",
            "0                     0.0      April 3rd, 2016   \n",
            "267                   1.0     March 11th, 2016   \n",
            "534                   1.0    August 28th, 2018   \n",
            "801                   0.0      July 22nd, 2015   \n",
            "1068                  0.0   December 8th, 2018   \n",
            "1335                  6.0  December 23rd, 2015   \n",
            "\n",
            "                      certification_body  \\\n",
            "0     METAD Agricultural Development plc   \n",
            "267                             Almacafé   \n",
            "534            Salvadoran Coffee Council   \n",
            "801         Specialty Coffee Association   \n",
            "1068        Blossom Valley International   \n",
            "1335        Specialty Coffee Association   \n",
            "\n",
            "                         certification_address  \\\n",
            "0     309fcf77415a3661ae83e027f7e5f05dad786e44   \n",
            "267   e493c36c2d076bf273064f7ac23ad562af257a25   \n",
            "534   3d4987e3b91399dbb3938b5bdf53893b6ef45be1   \n",
            "801   36d0d00a3724338ba7937c52a378d085f2172daa   \n",
            "1068  fc45352eee499d8470cf94c9827922fb745bf815   \n",
            "1335  ff7c18ad303d4b603ac3f8cff7e611ffc735e720   \n",
            "\n",
            "                         certification_contact unit_of_measurement  \\\n",
            "0     19fef5a731de2db57d16da10287413f5f99bc2dd                   m   \n",
            "267   70d3c0c26f89e00fdae6fb39ff54f0d2eb1c38ab                   m   \n",
            "534   27b21e368fb8291cbea02c60623fe6c98f84524d                   m   \n",
            "801   0878a7d4b9d35ddbf0fe2ce69a2062cceb45a660                   m   \n",
            "1068  de73fc9412358b523d3a641501e542f31d2668b0                   m   \n",
            "1335  352d0cf7f3e9be14dad7df644ad65efc27605ae2                   m   \n",
            "\n",
            "     altitude_low_meters altitude_high_meters altitude_mean_meters  \n",
            "0                 1950.0               2200.0               2075.0  \n",
            "267                  NaN                  NaN                  NaN  \n",
            "534               1350.0               1350.0               1350.0  \n",
            "801                600.0                600.0                600.0  \n",
            "1068                50.0                 50.0                 50.0  \n",
            "1335               795.0                795.0                795.0  \n",
            "\n",
            "[6 rows x 43 columns]\n"
          ]
        }
      ]
    },
    {
      "cell_type": "code",
      "source": [
        "#Visualizing the systematic sampling\n",
        "coffee_rating_with_id = coffee_ratings_df.reset_index()\n",
        "coffee_rating_with_id.plot(x='index', y='aftertaste',kind='scatter')\n",
        "plt.show()"
      ],
      "metadata": {
        "colab": {
          "base_uri": "https://localhost:8080/",
          "height": 449
        },
        "id": "RlD2Bnj-atfo",
        "outputId": "cd481de0-5615-4781-add7-0174c6d49bae"
      },
      "execution_count": 55,
      "outputs": [
        {
          "output_type": "display_data",
          "data": {
            "text/plain": [
              "<Figure size 640x480 with 1 Axes>"
            ],
            "image/png": "[encoded data removed]"
          },
          "metadata": {}
        }
      ]
    },
    {
      "cell_type": "markdown",
      "source": [
        "This plot shows that earlier rows has higher aftertaste than the later rows which is a sign of bias making systematic sampling not safe..Systematic sampling is only safe if i dont see a pattern in my scatter plot"
      ],
      "metadata": {
        "id": "0k8jO9B-bOK5"
      }
    },
    {
      "cell_type": "code",
      "source": [
        "#making systematic sampling safe\n",
        "\n",
        "shuffled = coffee_ratings_df.sample(frac=1)\n",
        "shuffled = shuffled.reset_index(drop=True).reset_index()\n",
        "shuffled.plot(x='index', y='aftertaste',kind='scatter')\n",
        "plt.show()"
      ],
      "metadata": {
        "colab": {
          "base_uri": "https://localhost:8080/",
          "height": 449
        },
        "id": "MrtR_I2HbjMf",
        "outputId": "dcb90b35-12fc-4d1f-9a63-2d2b071845f2"
      },
      "execution_count": 56,
      "outputs": [
        {
          "output_type": "display_data",
          "data": {
            "text/plain": [
              "<Figure size 640x480 with 1 Axes>"
            ],
            "image/png": "[encoded data removed]"
          },
          "metadata": {}
        }
      ]
    },
    {
      "cell_type": "markdown",
      "source": [
        "# Stratified Sampling - ### sampling a population that contains subgroups"
      ],
      "metadata": {
        "id": "tpZDQhFZuGAO"
      }
    },
    {
      "cell_type": "code",
      "source": [
        "#Grouping the coffee rating by countries\n",
        "\n",
        "print(coffee_ratings_df['country_of_origin'].value_counts())"
      ],
      "metadata": {
        "colab": {
          "base_uri": "https://localhost:8080/"
        },
        "id": "tJD-_6L9uXWz",
        "outputId": "bea90410-bd24-4389-a463-b4f2a8ec5c8c"
      },
      "execution_count": 57,
      "outputs": [
        {
          "output_type": "stream",
          "name": "stdout",
          "text": [
            "Mexico                          236\n",
            "Colombia                        183\n",
            "Guatemala                       181\n",
            "Brazil                          132\n",
            "Taiwan                           75\n",
            "United States (Hawaii)           73\n",
            "Honduras                         52\n",
            "Costa Rica                       51\n",
            "Ethiopia                         44\n",
            "Tanzania, United Republic Of     40\n",
            "Uganda                           36\n",
            "Thailand                         32\n",
            "Nicaragua                        26\n",
            "Kenya                            25\n",
            "El Salvador                      21\n",
            "Indonesia                        20\n",
            "China                            16\n",
            "India                            14\n",
            "Malawi                           11\n",
            "United States                    10\n",
            "Peru                             10\n",
            "Myanmar                           8\n",
            "Vietnam                           8\n",
            "Haiti                             6\n",
            "Philippines                       5\n",
            "United States (Puerto Rico)       4\n",
            "Panama                            4\n",
            "Ecuador                           3\n",
            "Laos                              3\n",
            "Burundi                           2\n",
            "Papua New Guinea                  1\n",
            "Rwanda                            1\n",
            "Zambia                            1\n",
            "Japan                             1\n",
            "Mauritius                         1\n",
            "Cote d?Ivoire                     1\n",
            "Name: country_of_origin, dtype: int64\n"
          ]
        }
      ]
    },
    {
      "cell_type": "code",
      "source": [
        "#Filtering the countries into subgroups\n",
        "top_coffee_countries = ['Mexico','Colombia','Guatemala','Brazil','Taiwan','United States (Hawaii)']\n",
        "top_counted_subset = coffee_ratings_df['country_of_origin'].isin(top_coffee_countries)\n",
        "\n",
        "coffee_rating_top = coffee_ratings_df[top_counted_subset]\n",
        "print(coffee_rating_top)"
      ],
      "metadata": {
        "colab": {
          "base_uri": "https://localhost:8080/"
        },
        "id": "hTWMByI1vXW0",
        "outputId": "82943fac-20e3-457c-b317-9abe3545f865"
      },
      "execution_count": 58,
      "outputs": [
        {
          "output_type": "stream",
          "name": "stdout",
          "text": [
            "      total_cup_points  species                          owner  \\\n",
            "2                89.75  Arabica       grounds for health admin   \n",
            "5                88.83  Arabica                      ji-ae ahn   \n",
            "13               87.92  Arabica       grounds for health admin   \n",
            "22               87.17  Arabica          roberto licona franco   \n",
            "25               86.92  Arabica                       nucoffee   \n",
            "...                ...      ...                            ...   \n",
            "1300             71.00  Arabica  ricardo aaron sampieri marini   \n",
            "1301             70.75  Arabica                   kurt kappeli   \n",
            "1302             70.67  Arabica         volcafe ltda. - brasil   \n",
            "1306             68.33  Arabica       juan carlos garcia lopez   \n",
            "1309             59.83  Arabica      juan luis alvarado romero   \n",
            "\n",
            "           country_of_origin                                 farm_name  \\\n",
            "2                  Guatemala  san marcos barrancas \"san cristobal cuch   \n",
            "5                     Brazil                                      None   \n",
            "13    United States (Hawaii)                             arianna farms   \n",
            "22                    Mexico                              la herradura   \n",
            "25                    Brazil                           fazenda kaquend   \n",
            "...                      ...                                       ...   \n",
            "1300                  Mexico                                 la morena   \n",
            "1301                  Mexico                                   various   \n",
            "1302                  Brazil                                      None   \n",
            "1306                  Mexico                             el centenario   \n",
            "1309               Guatemala                            finca el limon   \n",
            "\n",
            "             lot_number                                               mill  \\\n",
            "2                  None                                               None   \n",
            "5                  None                                               None   \n",
            "13                 None                                               None   \n",
            "22                 None                                       la herradura   \n",
            "25                 None                                               None   \n",
            "...                 ...                                                ...   \n",
            "1300               None                           tlamatoca, hutusco, ver.   \n",
            "1301               None                                         f.i.e.c.h.   \n",
            "1302  2017/2018 - Lot 2                                              copag   \n",
            "1306               None  la esperanza, municipio juchique de ferrer, ve...   \n",
            "1309               None                                   beneficio serben   \n",
            "\n",
            "          ico_number        company       altitude  ...         color  \\\n",
            "2               None           None  1600 - 1800 m  ...          None   \n",
            "5               None           None           None  ...  Bluish-Green   \n",
            "13              None           None        2000 ft  ...          None   \n",
            "22                 0           None           1320  ...         Green   \n",
            "25     002/1251/0073       nucoffee          1250m  ...         Green   \n",
            "...              ...            ...            ...  ...           ...   \n",
            "1300      1104351023           None           1800  ...         Green   \n",
            "1301  0016-2847-0001  globus coffee    1000 meters  ...         Green   \n",
            "1302            None  volcafe ltda.           None  ...         Green   \n",
            "1306      1104328663      terra mia            900  ...          None   \n",
            "1309      11/853/165        unicafe           4650  ...         Green   \n",
            "\n",
            "     category_two_defects            expiration  \\\n",
            "2                     0.0        May 31st, 2011   \n",
            "5                     1.0   September 3rd, 2014   \n",
            "13                    2.0        May 31st, 2011   \n",
            "22                    0.0       July 26th, 2013   \n",
            "25                    2.0    December 2nd, 2012   \n",
            "...                   ...                   ...   \n",
            "1300                  0.0       July 11th, 2013   \n",
            "1301                  1.0         May 5th, 2015   \n",
            "1302                 55.0    October 27th, 2018   \n",
            "1306                 20.0  September 17th, 2013   \n",
            "1309                  4.0        May 24th, 2013   \n",
            "\n",
            "                       certification_body  \\\n",
            "2            Specialty Coffee Association   \n",
            "5      Specialty Coffee Institute of Asia   \n",
            "13           Specialty Coffee Association   \n",
            "22                                AMECAFE   \n",
            "25                               NUCOFFEE   \n",
            "...                                   ...   \n",
            "1300                              AMECAFE   \n",
            "1301         Specialty Coffee Association   \n",
            "1302  Brazil Specialty Coffee Association   \n",
            "1306                              AMECAFE   \n",
            "1309         Asociacion Nacional Del Café   \n",
            "\n",
            "                         certification_address  \\\n",
            "2     36d0d00a3724338ba7937c52a378d085f2172daa   \n",
            "5     726e4891cf2c9a4848768bd34b668124d12c4224   \n",
            "13    36d0d00a3724338ba7937c52a378d085f2172daa   \n",
            "22    59e396ad6e22a1c22b248f958e1da2bd8af85272   \n",
            "25    567f200bcc17a90070cb952647bf88141ad9c80c   \n",
            "...                                        ...   \n",
            "1300  59e396ad6e22a1c22b248f958e1da2bd8af85272   \n",
            "1301  36d0d00a3724338ba7937c52a378d085f2172daa   \n",
            "1302  3297cfa4c538e3dd03f72cc4082c54f7999e1f9d   \n",
            "1306  59e396ad6e22a1c22b248f958e1da2bd8af85272   \n",
            "1309  b1f20fe3a819fd6b2ee0eb8fdc3da256604f1e53   \n",
            "\n",
            "                         certification_contact unit_of_measurement  \\\n",
            "2     0878a7d4b9d35ddbf0fe2ce69a2062cceb45a660                   m   \n",
            "5     b70da261fcc84831e3e9620c30a8701540abc200                   m   \n",
            "13    0878a7d4b9d35ddbf0fe2ce69a2062cceb45a660                  ft   \n",
            "22    0eb4ee5b3f47b20b049548a2fd1e7d4a2b70d0a7                   m   \n",
            "25    aa2ff513ffb9c844462a1fb07c599bce7f3bb53d                   m   \n",
            "...                                        ...                 ...   \n",
            "1300  0eb4ee5b3f47b20b049548a2fd1e7d4a2b70d0a7                   m   \n",
            "1301  0878a7d4b9d35ddbf0fe2ce69a2062cceb45a660                   m   \n",
            "1302  8900f0bf1d0b2bafe6807a73562c7677d57eb980                   m   \n",
            "1306  0eb4ee5b3f47b20b049548a2fd1e7d4a2b70d0a7                   m   \n",
            "1309  724f04ad10ed31dbb9d260f0dfd221ba48be8a95                  ft   \n",
            "\n",
            "     altitude_low_meters altitude_high_meters altitude_mean_meters  \n",
            "2                1600.00              1800.00              1700.00  \n",
            "5                    NaN                  NaN                  NaN  \n",
            "13                609.60               609.60               609.60  \n",
            "22               1320.00              1320.00              1320.00  \n",
            "25               1250.00              1250.00              1250.00  \n",
            "...                  ...                  ...                  ...  \n",
            "1300             1800.00              1800.00              1800.00  \n",
            "1301             1000.00              1000.00              1000.00  \n",
            "1302                 NaN                  NaN                  NaN  \n",
            "1306              900.00               900.00               900.00  \n",
            "1309             1417.32              1417.32              1417.32  \n",
            "\n",
            "[880 rows x 43 columns]\n"
          ]
        }
      ]
    },
    {
      "cell_type": "markdown",
      "source": [
        "### Taking a ten percent of a random sample of the top country subset"
      ],
      "metadata": {
        "id": "93RYisg6xUOU"
      }
    },
    {
      "cell_type": "code",
      "source": [
        "#Sample\n",
        "coffee_rating_country_samp = coffee_rating_top.sample(frac = 0.1, random_state=2021)\n",
        "print(coffee_rating_country_samp['country_of_origin'].value_counts(normalize=True))"
      ],
      "metadata": {
        "colab": {
          "base_uri": "https://localhost:8080/"
        },
        "id": "pedsO2ikxfR2",
        "outputId": "b3132fcb-fd95-4637-e11d-b59f1540bbbb"
      },
      "execution_count": 59,
      "outputs": [
        {
          "output_type": "stream",
          "name": "stdout",
          "text": [
            "Mexico                    0.250000\n",
            "Guatemala                 0.204545\n",
            "Colombia                  0.181818\n",
            "Brazil                    0.181818\n",
            "United States (Hawaii)    0.102273\n",
            "Taiwan                    0.079545\n",
            "Name: country_of_origin, dtype: float64\n"
          ]
        }
      ]
    },
    {
      "cell_type": "markdown",
      "source": [
        "###Comparing proportions of samples by the population and sample above"
      ],
      "metadata": {
        "id": "rgCCjvTLyOTb"
      }
    },
    {
      "cell_type": "code",
      "source": [
        "#Full Population\n",
        "print(coffee_rating_top['country_of_origin'].value_counts(normalize=True))"
      ],
      "metadata": {
        "colab": {
          "base_uri": "https://localhost:8080/"
        },
        "id": "8DTzLnYoyWqi",
        "outputId": "5aa0a592-3eb4-4952-c4d6-8f16a3e6900a"
      },
      "execution_count": 60,
      "outputs": [
        {
          "output_type": "stream",
          "name": "stdout",
          "text": [
            "Mexico                    0.268182\n",
            "Colombia                  0.207955\n",
            "Guatemala                 0.205682\n",
            "Brazil                    0.150000\n",
            "Taiwan                    0.085227\n",
            "United States (Hawaii)    0.082955\n",
            "Name: country_of_origin, dtype: float64\n"
          ]
        }
      ]
    },
    {
      "cell_type": "markdown",
      "source": [
        "# Proportional Stratified Sampling"
      ],
      "metadata": {
        "id": "Jm8ApcbRzuuH"
      }
    },
    {
      "cell_type": "code",
      "source": [
        "coffee_rating_strat = coffee_rating_top.groupby('country_of_origin').sample(frac=0.1,random_state=2021)\n",
        "print(coffee_rating_strat['country_of_origin'].value_counts(normalize=True))"
      ],
      "metadata": {
        "colab": {
          "base_uri": "https://localhost:8080/"
        },
        "id": "yurwwCk5zzg_",
        "outputId": "c406e5a0-0489-44ed-db25-3df33d70a623"
      },
      "execution_count": 61,
      "outputs": [
        {
          "output_type": "stream",
          "name": "stdout",
          "text": [
            "Mexico                    0.272727\n",
            "Colombia                  0.204545\n",
            "Guatemala                 0.204545\n",
            "Brazil                    0.147727\n",
            "Taiwan                    0.090909\n",
            "United States (Hawaii)    0.079545\n",
            "Name: country_of_origin, dtype: float64\n"
          ]
        }
      ]
    },
    {
      "cell_type": "markdown",
      "source": [
        "## Equal counts stratified sampling"
      ],
      "metadata": {
        "id": "x-AH4QLs0csE"
      }
    },
    {
      "cell_type": "code",
      "source": [
        "coffee_rating_eq = coffee_rating_top.groupby('country_of_origin').sample(n=15,random_state=2021)\n",
        "print(coffee_rating_eq['country_of_origin'].value_counts(normalize=True))"
      ],
      "metadata": {
        "colab": {
          "base_uri": "https://localhost:8080/"
        },
        "id": "nOjsM2bp0inb",
        "outputId": "8af49498-d019-4591-bd97-8e23892dd455"
      },
      "execution_count": 62,
      "outputs": [
        {
          "output_type": "stream",
          "name": "stdout",
          "text": [
            "Brazil                    0.166667\n",
            "Colombia                  0.166667\n",
            "Guatemala                 0.166667\n",
            "Mexico                    0.166667\n",
            "Taiwan                    0.166667\n",
            "United States (Hawaii)    0.166667\n",
            "Name: country_of_origin, dtype: float64\n"
          ]
        }
      ]
    },
    {
      "cell_type": "markdown",
      "source": [
        "# Weighted Random Sampling"
      ],
      "metadata": {
        "id": "46lcRB6I43PW"
      }
    },
    {
      "cell_type": "code",
      "source": [
        "coffee_rating_weight = coffee_rating_top\n",
        "condition = coffee_rating_weight['country_of_origin'] =='Taiwan'\n",
        "coffee_rating_weight['Weight'] = np.where(condition, 2, 1)\n",
        "coffee_rating_weight = coffee_rating_weight.sample(frac=0.1, weights='Weight')\n",
        "print(coffee_rating_weight['country_of_origin'].value_counts(normalize=True))"
      ],
      "metadata": {
        "colab": {
          "base_uri": "https://localhost:8080/"
        },
        "id": "MzgVu0LS42Ug",
        "outputId": "09582f01-9fe0-48ee-aee3-9c7287e8aca2"
      },
      "execution_count": 63,
      "outputs": [
        {
          "output_type": "stream",
          "name": "stdout",
          "text": [
            "Mexico                    0.261364\n",
            "Colombia                  0.193182\n",
            "Taiwan                    0.170455\n",
            "Brazil                    0.147727\n",
            "Guatemala                 0.125000\n",
            "United States (Hawaii)    0.102273\n",
            "Name: country_of_origin, dtype: float64\n"
          ]
        },
        {
          "output_type": "stream",
          "name": "stderr",
          "text": [
            "<ipython-input-63-7b725a6b3424>:3: SettingWithCopyWarning: \n",
            "A value is trying to be set on a copy of a slice from a DataFrame.\n",
            "Try using .loc[row_indexer,col_indexer] = value instead\n",
            "\n",
            "See the caveats in the documentation: https://pandas.pydata.org/pandas-docs/stable/user_guide/indexing.html#returning-a-view-versus-a-copy\n",
            "  coffee_rating_weight['Weight'] = np.where(condition, 2, 1)\n"
          ]
        }
      ]
    },
    {
      "cell_type": "markdown",
      "source": [
        "# Cluster Sampling"
      ],
      "metadata": {
        "id": "6tgCq5t8ZpZ5"
      }
    },
    {
      "cell_type": "code",
      "source": [
        "#varieties of coffe\n",
        "coffee_variety_pop = list(coffee_ratings_df['variety'].unique())\n",
        "print(coffee_variety_pop)"
      ],
      "metadata": {
        "colab": {
          "base_uri": "https://localhost:8080/"
        },
        "id": "eGAYBpYwZvol",
        "outputId": "1b7111a8-1bd8-4736-96a4-7c2eb664323b"
      },
      "execution_count": 64,
      "outputs": [
        {
          "output_type": "stream",
          "name": "stdout",
          "text": [
            "[None, 'Other', 'Bourbon', 'Catimor', 'Ethiopian Yirgacheffe', 'Caturra', 'SL14', 'Sumatra', 'SL34', 'Hawaiian Kona', 'Yellow Bourbon', 'SL28', 'Gesha', 'Catuai', 'Pacamara', 'Typica', 'Sumatra Lintong', 'Mundo Novo', 'Java', 'Peaberry', 'Pacas', 'Mandheling', 'Ruiru 11', 'Arusha', 'Ethiopian Heirlooms', 'Moka Peaberry', 'Sulawesi', 'Blue Mountain', 'Marigojipe', 'Pache Comun']\n"
          ]
        }
      ]
    },
    {
      "cell_type": "markdown",
      "source": [
        "stage 1: sampling for subgroups"
      ],
      "metadata": {
        "id": "faHz_L0WakG8"
      }
    },
    {
      "cell_type": "code",
      "source": [
        "import random\n",
        "coffee_variety_sample = random.sample(coffee_variety_pop,k=3)\n",
        "print(coffee_variety_sample)"
      ],
      "metadata": {
        "colab": {
          "base_uri": "https://localhost:8080/"
        },
        "id": "mSHkSw40am9z",
        "outputId": "f88b6fa1-d692-4898-d96b-f592d80165da"
      },
      "execution_count": 65,
      "outputs": [
        {
          "output_type": "stream",
          "name": "stdout",
          "text": [
            "['Pache Comun', 'Moka Peaberry', 'SL34']\n"
          ]
        }
      ]
    },
    {
      "cell_type": "markdown",
      "source": [
        "stage 2: sampling each subgroup"
      ],
      "metadata": {
        "id": "xJXeNeYkblh5"
      }
    },
    {
      "cell_type": "code",
      "source": [
        "coffee_ratings_df['variety']= coffee_ratings_df['variety'].astype('category')\n",
        "variety_condition = coffee_ratings_df['variety'].isin(coffee_variety_sample)\n",
        "coffee_cluster = coffee_ratings_df[variety_condition]\n",
        "\n",
        "coffee_cluster['variety'] = coffee_cluster['variety'].cat.remove_unused_categories()\n",
        "coffee_cluster_ratings = coffee_cluster.groupby('variety').sample(n=5,random_state=2021,replace=True)\n",
        "print(coffee_cluster_ratings)"
      ],
      "metadata": {
        "colab": {
          "base_uri": "https://localhost:8080/"
        },
        "id": "0yCDD7XcboVP",
        "outputId": "118a3717-2622-40eb-fb3e-4414ca7a89b8"
      },
      "execution_count": 66,
      "outputs": [
        {
          "output_type": "stream",
          "name": "stdout",
          "text": [
            "     total_cup_points  species                                       owner  \\\n",
            "543             82.92  Arabica  expocaccer coop dos cafeic do cerrado ltda   \n",
            "543             82.92  Arabica  expocaccer coop dos cafeic do cerrado ltda   \n",
            "543             82.92  Arabica  expocaccer coop dos cafeic do cerrado ltda   \n",
            "543             82.92  Arabica  expocaccer coop dos cafeic do cerrado ltda   \n",
            "543             82.92  Arabica  expocaccer coop dos cafeic do cerrado ltda   \n",
            "989             81.08  Arabica                                    wali ali   \n",
            "989             81.08  Arabica                                    wali ali   \n",
            "989             81.08  Arabica                                    wali ali   \n",
            "989             81.08  Arabica                                    wali ali   \n",
            "989             81.08  Arabica                                    wali ali   \n",
            "121             84.75  Arabica                               lydiah mwangi   \n",
            "144             84.58  Arabica                               jungle estate   \n",
            "79              85.33  Arabica            rashid moledina & co. (msa) ltd.   \n",
            "35              86.25  Arabica                                 daniel magu   \n",
            "144             84.58  Arabica                               jungle estate   \n",
            "\n",
            "    country_of_origin        farm_name lot_number                        mill  \\\n",
            "543            Brazil  fazenda pantano       None                        None   \n",
            "543            Brazil  fazenda pantano       None                        None   \n",
            "543            Brazil  fazenda pantano       None                        None   \n",
            "543            Brazil  fazenda pantano       None                        None   \n",
            "543            Brazil  fazenda pantano       None                        None   \n",
            "989     United States             None       None  juanana coffee association   \n",
            "989     United States             None       None  juanana coffee association   \n",
            "989     United States             None       None  juanana coffee association   \n",
            "989     United States             None       None  juanana coffee association   \n",
            "989     United States             None       None  juanana coffee association   \n",
            "121             Kenya         karatina       None                      sagana   \n",
            "144             Kenya    jungle estate   10NG0093                   nkg mills   \n",
            "79              Kenya             None       None                        None   \n",
            "35              Kenya          kangunu       None  central kenya coffee mills   \n",
            "144             Kenya    jungle estate   10NG0093                   nkg mills   \n",
            "\n",
            "      ico_number                          company      altitude  ...  \\\n",
            "543          999                       expocaccer  11000 metros  ...   \n",
            "543          999                       expocaccer  11000 metros  ...   \n",
            "543          999                       expocaccer  11000 metros  ...   \n",
            "543          999                       expocaccer  11000 metros  ...   \n",
            "543          999                       expocaccer  11000 metros  ...   \n",
            "989          n/a            conscious bean coffee     5600 feet  ...   \n",
            "989          n/a            conscious bean coffee     5600 feet  ...   \n",
            "989          n/a            conscious bean coffee     5600 feet  ...   \n",
            "989          n/a            conscious bean coffee     5600 feet  ...   \n",
            "989          n/a            conscious bean coffee     5600 feet  ...   \n",
            "121      KE 9143                     c dorman ltd          1800  ...   \n",
            "144         None                 keremara limited          1754  ...   \n",
            "79   37/672/0017  rashid moledina & co. (msa) ltd  above 1600 m  ...   \n",
            "35             0                     c dorman ltd          1800  ...   \n",
            "144         None                 keremara limited          1754  ...   \n",
            "\n",
            "          color category_two_defects          expiration  \\\n",
            "543       Green                 16.0   August 15th, 2015   \n",
            "543       Green                 16.0   August 15th, 2015   \n",
            "543       Green                 16.0   August 15th, 2015   \n",
            "543       Green                 16.0   August 15th, 2015   \n",
            "543       Green                 16.0   August 15th, 2015   \n",
            "989        None                  0.0     March 3rd, 2016   \n",
            "989        None                  0.0     March 3rd, 2016   \n",
            "989        None                  0.0     March 3rd, 2016   \n",
            "989        None                  0.0     March 3rd, 2016   \n",
            "989        None                  0.0     March 3rd, 2016   \n",
            "121       Green                  0.0      June 1st, 2016   \n",
            "144  Blue-Green                  5.0  January 11th, 2019   \n",
            "79        Green                  2.0    April 19th, 2014   \n",
            "35   Blue-Green                  1.0      May 30th, 2015   \n",
            "144  Blue-Green                  5.0  January 11th, 2019   \n",
            "\n",
            "                      certification_body  \\\n",
            "543  Brazil Specialty Coffee Association   \n",
            "543  Brazil Specialty Coffee Association   \n",
            "543  Brazil Specialty Coffee Association   \n",
            "543  Brazil Specialty Coffee Association   \n",
            "543  Brazil Specialty Coffee Association   \n",
            "989         Specialty Coffee Association   \n",
            "989         Specialty Coffee Association   \n",
            "989         Specialty Coffee Association   \n",
            "989         Specialty Coffee Association   \n",
            "989         Specialty Coffee Association   \n",
            "121     Kenya Coffee Traders Association   \n",
            "144     Kenya Coffee Traders Association   \n",
            "79      Kenya Coffee Traders Association   \n",
            "35      Kenya Coffee Traders Association   \n",
            "144     Kenya Coffee Traders Association   \n",
            "\n",
            "                        certification_address  \\\n",
            "543  3297cfa4c538e3dd03f72cc4082c54f7999e1f9d   \n",
            "543  3297cfa4c538e3dd03f72cc4082c54f7999e1f9d   \n",
            "543  3297cfa4c538e3dd03f72cc4082c54f7999e1f9d   \n",
            "543  3297cfa4c538e3dd03f72cc4082c54f7999e1f9d   \n",
            "543  3297cfa4c538e3dd03f72cc4082c54f7999e1f9d   \n",
            "989  36d0d00a3724338ba7937c52a378d085f2172daa   \n",
            "989  36d0d00a3724338ba7937c52a378d085f2172daa   \n",
            "989  36d0d00a3724338ba7937c52a378d085f2172daa   \n",
            "989  36d0d00a3724338ba7937c52a378d085f2172daa   \n",
            "989  36d0d00a3724338ba7937c52a378d085f2172daa   \n",
            "121  ccba45b89d859740b749878be8c6d16fbdb96c2e   \n",
            "144  ccba45b89d859740b749878be8c6d16fbdb96c2e   \n",
            "79   ccba45b89d859740b749878be8c6d16fbdb96c2e   \n",
            "35   ccba45b89d859740b749878be8c6d16fbdb96c2e   \n",
            "144  ccba45b89d859740b749878be8c6d16fbdb96c2e   \n",
            "\n",
            "                        certification_contact unit_of_measurement  \\\n",
            "543  8900f0bf1d0b2bafe6807a73562c7677d57eb980                   m   \n",
            "543  8900f0bf1d0b2bafe6807a73562c7677d57eb980                   m   \n",
            "543  8900f0bf1d0b2bafe6807a73562c7677d57eb980                   m   \n",
            "543  8900f0bf1d0b2bafe6807a73562c7677d57eb980                   m   \n",
            "543  8900f0bf1d0b2bafe6807a73562c7677d57eb980                   m   \n",
            "989  0878a7d4b9d35ddbf0fe2ce69a2062cceb45a660                  ft   \n",
            "989  0878a7d4b9d35ddbf0fe2ce69a2062cceb45a660                  ft   \n",
            "989  0878a7d4b9d35ddbf0fe2ce69a2062cceb45a660                  ft   \n",
            "989  0878a7d4b9d35ddbf0fe2ce69a2062cceb45a660                  ft   \n",
            "989  0878a7d4b9d35ddbf0fe2ce69a2062cceb45a660                  ft   \n",
            "121  d752c909a015f3c76224b3c5cc520f8a67afda74                   m   \n",
            "144  d752c909a015f3c76224b3c5cc520f8a67afda74                   m   \n",
            "79   d752c909a015f3c76224b3c5cc520f8a67afda74                   m   \n",
            "35   d752c909a015f3c76224b3c5cc520f8a67afda74                   m   \n",
            "144  d752c909a015f3c76224b3c5cc520f8a67afda74                   m   \n",
            "\n",
            "    altitude_low_meters altitude_high_meters altitude_mean_meters  \n",
            "543            11000.00             11000.00             11000.00  \n",
            "543            11000.00             11000.00             11000.00  \n",
            "543            11000.00             11000.00             11000.00  \n",
            "543            11000.00             11000.00             11000.00  \n",
            "543            11000.00             11000.00             11000.00  \n",
            "989             1706.88              1706.88              1706.88  \n",
            "989             1706.88              1706.88              1706.88  \n",
            "989             1706.88              1706.88              1706.88  \n",
            "989             1706.88              1706.88              1706.88  \n",
            "989             1706.88              1706.88              1706.88  \n",
            "121             1800.00              1800.00              1800.00  \n",
            "144             1754.00              1754.00              1754.00  \n",
            "79              1600.00              1600.00              1600.00  \n",
            "35              1800.00              1800.00              1800.00  \n",
            "144             1754.00              1754.00              1754.00  \n",
            "\n",
            "[15 rows x 43 columns]\n"
          ]
        },
        {
          "output_type": "stream",
          "name": "stderr",
          "text": [
            "<ipython-input-66-93bf1fbe7956>:5: SettingWithCopyWarning: \n",
            "A value is trying to be set on a copy of a slice from a DataFrame.\n",
            "Try using .loc[row_indexer,col_indexer] = value instead\n",
            "\n",
            "See the caveats in the documentation: https://pandas.pydata.org/pandas-docs/stable/user_guide/indexing.html#returning-a-view-versus-a-copy\n",
            "  coffee_cluster['variety'] = coffee_cluster['variety'].cat.remove_unused_categories()\n"
          ]
        }
      ]
    },
    {
      "cell_type": "markdown",
      "source": [
        "# Relative error of point estimates"
      ],
      "metadata": {
        "id": "VZ2sSF00NM5m"
      }
    },
    {
      "cell_type": "code",
      "source": [
        "coffee_population_mean = coffee_ratings_df['total_cup_points'].mean()\n",
        "\n",
        "coffee_sample_mean = coffee_ratings_df.sample(n=sample_size)['total_cup_points'].mean()\n",
        "\n",
        "#Relative Error\n",
        "\n",
        "rel_error = 100 * abs(coffee_population_mean - coffee_sample_mean)/ coffee_population_mean\n",
        "print(rel_error)"
      ],
      "metadata": {
        "colab": {
          "base_uri": "https://localhost:8080/"
        },
        "id": "z-1W62oyNPEo",
        "outputId": "aaeedd68-34f1-4625-f833-3a1082159577"
      },
      "execution_count": 67,
      "outputs": [
        {
          "output_type": "stream",
          "name": "stdout",
          "text": [
            "1.5834177217608274\n"
          ]
        }
      ]
    },
    {
      "cell_type": "markdown",
      "source": [
        "#Creating a Sampling Distribution"
      ],
      "metadata": {
        "id": "wBkNqhk6CcFB"
      }
    },
    {
      "cell_type": "code",
      "source": [
        "#Same code a 1000 times\n",
        "\n",
        "mean_cup_points_1000 = []\n",
        "for i in range(1000):\n",
        "  mean_cup_points_1000.append(coffee_ratings_df.sample(n=1000)['total_cup_points'].mean())\n",
        "print(mean_cup_points_1000)"
      ],
      "metadata": {
        "colab": {
          "base_uri": "https://localhost:8080/"
        },
        "id": "U_jH-1K-Ch1W",
        "outputId": "05f422a5-8762-4c7c-f8f0-30e5a91ec05b"
      },
      "execution_count": 68,
      "outputs": [
        {
          "output_type": "stream",
          "name": "stdout",
          "text": [
            "[82.10076000000001, 82.09123, 82.10598000000002, 82.10470000000001, 82.21683, 82.13056, 82.17084, 82.1127, 82.13968, 82.21956, 82.07715, 82.09785000000001, 82.19035000000001, 82.14401000000001, 82.16261999999999, 82.11453, 82.07581, 82.13949000000001, 82.18887, 82.07999, 82.19121, 82.09895999999999, 82.18128999999999, 82.08655999999999, 82.12859, 82.14647000000001, 82.16882000000001, 82.13852, 82.06701000000001, 82.17564, 82.24822999999999, 82.12275, 82.13752000000001, 82.15602, 82.18288000000001, 82.12985999999998, 82.16153, 82.19273000000001, 82.20183999999999, 82.15008, 82.09506, 82.10990999999999, 82.1544, 82.17042, 82.14667999999999, 82.17681000000002, 82.21658000000001, 82.1547, 82.25138000000001, 82.20467000000001, 82.18296000000001, 82.20605, 82.12760999999999, 82.09352, 82.18498000000001, 82.17213000000001, 82.16829000000001, 82.18877, 82.20651000000001, 82.14871000000001, 82.14240000000001, 82.1391, 82.15404999999998, 82.23934, 82.12902, 82.10951000000001, 82.14117999999999, 82.13582000000001, 82.17873999999999, 82.14009, 82.24013000000001, 82.1413, 82.13935000000001, 82.16659, 82.18087, 82.22670000000001, 82.12999, 82.16957000000001, 82.10784, 82.13099, 82.13645000000001, 82.07892, 82.17257000000001, 82.21152000000001, 82.07812000000001, 82.24018, 82.09710000000001, 82.17058, 82.1528, 82.12445, 82.181, 82.10406, 82.15533, 82.12583000000001, 82.16579, 82.13015, 82.09677, 82.1581, 82.093, 82.18543, 82.20586, 82.1907, 82.25018000000001, 82.14003, 82.10889, 82.09353999999999, 82.13438000000001, 82.1423, 82.20657999999999, 82.23026000000002, 82.2149, 82.15629000000001, 82.15483, 82.14220999999999, 81.98227, 82.16187, 82.09928, 82.12639999999999, 82.12778, 82.15943000000001, 82.15403, 82.16393, 82.14699, 82.14861, 82.15414, 82.22294000000001, 82.15709, 82.07086000000001, 82.15533, 82.17632, 82.2015, 82.19717999999999, 82.18697, 82.21047999999999, 82.15540000000001, 82.14362, 82.19436999999999, 82.19955999999999, 82.10661999999999, 82.17859, 82.19034, 82.08976000000001, 82.16179999999999, 82.14247, 82.20683, 82.19253, 82.08989000000001, 82.16769000000001, 82.18576999999999, 82.14139, 82.12111, 82.14698000000001, 82.11866, 82.08457000000001, 82.21277, 82.10288, 82.15973000000001, 82.16163, 82.12533, 82.17213000000001, 82.10826999999999, 82.142, 82.20244, 82.12695, 82.18482, 82.17704, 82.12069, 82.19820000000001, 82.14106, 82.13911999999999, 82.098, 82.16575, 82.17220000000002, 82.14286000000001, 82.27423000000002, 82.19518000000001, 82.11558000000001, 82.17364, 82.14856, 82.21238000000001, 82.1315, 82.06975999999999, 82.12283, 82.14658, 82.15429, 82.16870000000002, 82.18693, 82.23091000000001, 82.1699, 82.19466, 82.19876, 82.09311000000001, 82.18796, 82.14622, 82.03783, 82.18232, 82.20249000000001, 82.09331, 82.12107, 82.22594000000001, 82.12785000000001, 82.14261000000002, 82.19718, 82.12968, 82.16533, 82.18411, 82.20926, 82.21386, 82.0925, 82.12425, 82.12221, 82.09722000000001, 82.13572, 82.22716, 82.14410999999998, 82.13819000000001, 82.21122, 82.15654, 82.07128, 82.10832, 82.09203, 82.15841999999999, 82.17022999999999, 82.19653, 82.13359, 82.11187, 82.0725, 82.10779000000001, 82.11617, 82.15817000000001, 82.17276, 82.14893, 82.138, 82.13820999999999, 82.17219, 82.12746000000001, 82.18096000000001, 82.13335000000001, 82.21222, 82.21462, 82.07037, 82.20883, 82.10585, 82.20997, 82.19889, 82.14634, 82.16187, 82.19295999999999, 82.13269, 82.13488000000001, 82.12908, 82.16668000000001, 82.15299, 82.18545000000002, 82.10834, 82.05430000000001, 82.11909, 82.10501000000001, 82.19333, 82.16123000000002, 82.13358, 82.1546, 82.21404000000001, 82.21433999999999, 82.05911, 82.13114, 82.14632, 82.18813, 82.11728, 82.0715, 82.18681, 82.08748000000001, 82.06948, 82.11255, 82.09591, 82.19425, 82.19982, 82.16810000000001, 82.18786999999999, 82.12716, 82.06738, 82.17488, 82.19969, 82.0706, 82.15369, 82.22744, 82.11347, 82.12629000000001, 82.15954999999998, 82.17924, 82.16866, 82.24734, 82.15975, 82.13203, 82.12034, 82.14042, 82.17575, 82.16307, 82.08220000000001, 82.07008, 82.15406, 82.15946, 82.09985, 82.21023, 82.20263, 82.11486000000001, 82.18701999999999, 82.11998, 82.13529000000001, 82.1634, 82.16564, 82.15982, 82.12363, 82.16712000000001, 82.19301000000002, 82.13459, 82.16719, 82.12694, 82.13473, 82.14511, 82.1623, 82.17267000000001, 82.17967, 82.1789, 82.18484, 82.23664, 82.13444, 82.18417, 82.18985, 82.03144, 82.19905, 82.12012, 82.1233, 82.16175, 82.19527000000001, 82.09387, 82.11719000000001, 82.08654000000001, 82.18185999999999, 82.14241, 82.19376, 82.14219, 82.14125, 82.15834999999998, 82.19467999999999, 82.12672, 82.11165999999999, 82.14523999999999, 82.13459000000002, 82.10372, 82.04617999999999, 82.16669, 82.08894000000001, 82.15498999999998, 82.17211, 82.09272999999999, 82.17874, 82.20631, 82.20693000000001, 82.15263999999999, 82.14343, 82.19833, 82.18136, 82.14385, 82.17348, 82.19147, 82.13971, 82.10687, 82.07757000000001, 82.07972, 82.20614000000002, 82.1079, 82.12592000000001, 82.12876999999999, 82.15910000000001, 82.11245, 82.17891, 82.13272, 82.16524, 82.14267000000001, 82.15781, 82.15918, 82.09522, 82.13770000000001, 82.21239, 82.21903, 82.14154, 82.19640000000001, 82.16194, 82.24159, 82.18709, 82.13189, 82.11064999999999, 82.09129999999999, 82.15323000000001, 82.20034999999999, 82.06860999999999, 82.09506, 82.26593, 82.13983999999999, 82.11309, 82.13352, 82.18604, 82.14001, 82.12454999999999, 82.12787, 82.22408, 82.11972, 82.05006, 82.10548000000001, 82.16758999999999, 82.13239999999999, 82.15639999999999, 82.15997, 82.16859000000001, 82.21391, 82.15567000000001, 82.18208, 82.15381, 82.19819, 82.12554000000002, 82.14804000000001, 82.09585999999999, 82.15173000000001, 82.10106000000002, 82.16088, 82.12306, 82.11537, 82.23369, 82.07027000000001, 82.056, 82.09011, 82.18256, 82.16423, 82.24311999999999, 82.14377999999999, 82.13222, 82.1352, 82.09166, 82.14701, 82.12845999999999, 82.09602, 82.15947, 82.17714, 82.13624, 82.18978, 82.19865, 82.13973000000001, 82.14731, 82.20955000000001, 82.11510000000001, 82.10740999999999, 82.11011, 82.13572, 82.18192, 82.16683, 82.13771, 82.10778, 82.20569, 82.08019999999999, 82.17421, 82.18589999999999, 82.17875, 82.18079, 82.20442999999999, 82.07635, 82.1503, 82.17932, 82.18551, 82.09398999999999, 82.11985, 82.11719000000001, 82.1486, 82.18807000000001, 82.20451000000001, 82.0599, 82.15737, 82.20228, 82.21866, 82.05074, 82.09218, 82.19129999999998, 82.17802, 82.14023999999999, 82.11326000000001, 82.12713999999998, 82.14434, 82.09387, 82.17666, 82.19625, 82.23939999999999, 82.18761, 82.15932000000001, 82.16945, 82.11611, 82.20263, 82.13915, 82.21654000000001, 82.15104999999998, 82.15567000000001, 82.19506, 82.14457, 82.11279, 82.09460999999999, 82.15245000000002, 82.17992, 82.15038, 82.16445, 82.05653, 82.14257999999998, 82.16232000000001, 82.1494, 82.1545, 82.13847, 82.14326999999999, 82.20967000000002, 82.15331, 82.11856999999999, 82.15861, 82.1459, 82.10364, 82.13378, 82.14780999999999, 82.24435000000001, 82.14994, 82.14321000000001, 82.186, 82.16628, 82.18257000000001, 82.1823, 82.09436, 82.11341, 82.09485000000001, 82.20877, 82.19969, 82.16314999999999, 82.20503, 82.11358, 82.13817999999999, 82.17496, 82.20344999999999, 82.15358, 82.11403, 82.16601999999999, 82.17504999999998, 82.08431, 82.1361, 82.14128, 82.12965, 82.16902, 82.13676000000001, 82.15384, 82.22704999999999, 82.14434, 82.24508, 82.247, 82.16698000000001, 82.20619, 82.16287, 82.20504000000001, 82.18035, 82.20713, 82.08261, 82.11303, 82.07058, 82.09246000000002, 82.14160000000001, 82.08627, 82.18406, 82.05464, 82.18670999999999, 82.18432000000001, 82.17917000000001, 82.20871, 82.12489000000001, 82.22063, 82.17653, 82.17866000000001, 82.18164999999999, 82.24430000000001, 82.22797, 82.17931, 82.19270000000002, 82.08529999999999, 82.16652, 82.12029, 82.10186999999999, 82.21365000000002, 82.15661000000001, 82.15166, 82.12992999999999, 82.13831, 82.08953, 82.15901000000001, 82.18978, 82.05980000000001, 82.2565, 82.11322, 82.15906, 82.1821, 82.07517000000001, 82.17660000000001, 82.16767, 82.16918, 82.179, 82.15668, 82.13636, 82.16938, 82.12849, 82.10328, 82.21205, 82.19357000000001, 82.18183000000002, 82.15513999999999, 82.20355, 82.16604000000001, 82.12372, 82.15610000000001, 82.17385, 82.16993, 82.12272, 82.17430999999999, 82.19886000000001, 82.13099, 82.17319, 82.17298000000001, 82.10145999999999, 82.12072, 82.20144, 82.17879, 82.21473000000002, 82.10725, 82.12848999999999, 82.16546, 82.11905, 82.10301000000001, 82.18358, 82.16920000000002, 82.19460000000001, 82.17882, 82.13714999999999, 82.15247000000001, 82.21532, 82.15567000000001, 82.15117, 82.20094999999999, 82.07222999999999, 82.16596, 82.14008, 82.10801000000001, 82.12514999999999, 82.22593, 82.19946, 82.16845, 82.21736, 82.05758999999999, 82.12898999999999, 82.07365, 82.14592000000002, 82.22128, 82.10904, 82.22927, 82.10967000000001, 82.23473000000001, 82.16272000000001, 82.11695999999999, 82.08994, 82.16357, 82.19214, 82.22826, 82.17251, 82.19792, 82.11559, 82.18011, 82.10567, 82.16911999999999, 82.10222999999999, 82.20769, 82.10311999999999, 82.19760000000001, 82.09617000000001, 82.04036, 82.15848, 82.24104000000001, 82.1093, 82.08318000000001, 82.13082, 82.17572, 82.22213, 82.10479000000001, 82.1463, 82.03761, 82.07251000000001, 82.17991, 82.10349000000001, 82.14206, 82.05258, 82.17862, 82.18964, 82.15433000000002, 82.14645, 82.14998999999999, 82.15453, 82.14633000000002, 82.14297, 82.20146, 82.17254999999999, 82.20439999999999, 82.10145, 82.0888, 82.17238, 82.11852, 82.18556, 82.14526000000001, 82.17678, 82.16032, 82.13888, 82.11571, 82.12389, 82.20456, 82.05419, 82.19829000000001, 82.17385999999999, 82.17954, 82.12361000000001, 82.13263, 82.19169000000001, 82.19537, 82.12576000000001, 82.08124000000001, 82.15381000000001, 82.17882, 82.18863999999999, 82.15713, 82.19251000000001, 82.23693, 82.13708, 82.07807999999999, 82.17792999999999, 82.13856, 82.20411999999999, 82.2682, 82.15596000000001, 82.16168, 82.19408, 82.17191, 82.14201999999999, 82.13405000000002, 82.147, 82.14033, 82.13853999999999, 82.12243, 82.17623999999999, 82.15849, 82.16729000000001, 82.21551000000001, 82.18148000000001, 82.15020999999999, 82.21148000000001, 82.11617000000001, 82.09395, 82.12441, 82.12373999999998, 82.22531, 82.16192, 82.12753, 82.14902000000001, 82.22801, 82.16778, 82.07028, 82.19207, 82.1675, 82.07311, 82.14629, 82.20951, 82.05107000000001, 82.13145999999999, 82.10347999999999, 82.15029, 82.15823999999999, 82.20709, 82.17387, 82.19848999999999, 82.20828, 82.10982000000001, 82.13371000000001, 82.15058000000002, 82.1614, 82.14367, 82.18901, 82.24699, 82.07927, 82.14201000000001, 82.11829999999999, 82.19772, 82.1588, 82.13069999999999, 82.17295, 82.19028, 82.08537, 82.17054, 82.21175, 82.23067000000002, 82.201, 82.16983, 82.10061999999999, 82.09074, 82.16497, 82.19782999999998, 82.11067999999999, 82.20904999999999, 82.14635000000001, 82.13928999999999, 82.18102999999999, 82.0975, 82.13154999999999, 82.16474000000001, 82.09878000000002, 82.11724000000001, 82.09620000000001, 82.17775999999999, 82.19067, 82.17705, 82.03205, 82.09591, 82.12620000000001, 82.1069, 82.11613, 82.15267999999999, 82.19551000000001, 82.14858, 82.13323000000001, 82.18966, 82.18566, 82.19233, 82.17126, 82.17425, 82.1735, 82.08242, 82.19297, 82.05808999999999, 82.22393, 82.14635000000001, 82.19054000000001, 82.12808, 82.24208999999999, 82.07382000000001, 82.11779, 82.20770000000002, 82.13434, 82.12852, 82.16573, 82.15884, 82.23094, 82.14539000000002, 82.13779, 82.13628, 82.16816, 82.23436, 82.21424, 82.1342, 82.17282, 82.16448999999999, 82.14823000000001, 82.14117999999999, 82.17401999999998, 82.12526000000001, 82.15536, 82.18852000000001, 82.16091999999999, 82.22544, 82.13145999999999, 82.15188, 82.09373000000001, 82.13992, 82.12049, 82.10695999999999, 82.16212, 82.18224000000001, 82.15267999999999, 82.08436000000002, 82.18889999999999, 82.20134, 82.11083, 82.21820999999998, 82.14235000000001, 82.17441000000001, 82.20311, 82.19145999999999, 82.11599000000001, 82.10128, 82.10378, 82.23767, 82.20006, 82.15328, 82.15656, 82.15006, 82.13482, 82.16824000000001, 82.12419, 82.15097, 82.11045999999999, 82.11894000000001, 82.21004, 82.10325999999999, 82.13985000000001, 82.15387, 82.18581, 82.13185, 82.142, 82.23164, 82.18392999999999, 82.11065, 82.12507000000001, 82.11661, 82.14303, 82.15892, 82.18012, 82.08076000000001, 82.16709, 82.11758, 82.1215, 82.21315, 82.08823000000001, 82.11384, 82.18225, 82.12214, 82.18462, 82.16531, 82.11399, 82.15121, 82.07704000000001, 82.16844999999999, 82.17473000000001, 82.16523000000001, 82.12594, 82.17501, 82.18794, 82.18786999999999, 82.15217, 82.11410000000001, 82.15872999999999, 82.19194, 82.16771, 82.11554000000001, 82.16806, 82.21932999999999, 82.12759, 82.18084999999999, 82.11716, 82.09043, 82.15834, 82.2145, 82.14914, 82.14375, 82.09975, 82.07714000000001, 82.11941, 82.21976000000001, 82.16866999999999, 82.12289, 82.12814000000002, 82.1732, 82.10361999999999, 82.19767999999999, 82.16906, 82.15807000000001, 82.13663000000001, 82.16794, 82.11516999999999, 82.1917, 82.15241999999999, 82.17708999999999, 82.14001999999999, 82.11434, 82.14867000000001, 82.16875, 82.18570000000001, 82.16832999999998, 82.14891, 82.23569, 82.12254000000001, 82.12988, 82.16451, 82.13620000000002, 82.11295, 82.18969, 82.11816, 82.15593, 82.08117, 82.16676000000001, 82.07929000000001, 82.26423000000001, 82.19206, 82.08638, 82.168, 82.20395, 82.16824, 82.11025, 82.12324000000001]\n"
          ]
        }
      ]
    },
    {
      "cell_type": "code",
      "source": [
        "#Visualization\n",
        "plt.hist(mean_cup_points_1000,bins=30)\n",
        "plt.show()"
      ],
      "metadata": {
        "colab": {
          "base_uri": "https://localhost:8080/",
          "height": 430
        },
        "id": "z1n1ze88DMZy",
        "outputId": "573257b1-aa36-4c66-adad-dcd133fba567"
      },
      "execution_count": 69,
      "outputs": [
        {
          "output_type": "display_data",
          "data": {
            "text/plain": [
              "<Figure size 640x480 with 1 Axes>"
            ],
            "image/png": "[encoded data removed]"
          },
          "metadata": {}
        }
      ]
    },
    {
      "cell_type": "markdown",
      "source": [
        "Interpretation: most of the results lie between eighty-one and eighty-three, and they roughly follow a bell-shaped curve, like a normal distribution"
      ],
      "metadata": {
        "id": "tn2I_DQeDaTw"
      }
    },
    {
      "cell_type": "markdown",
      "source": [
        "# Standard deviation"
      ],
      "metadata": {
        "id": "k1-eSWFHVw16"
      }
    },
    {
      "cell_type": "code",
      "source": [
        "#For the whole population\n",
        "std_population = coffee_ratings_df['total_cup_points'].std(ddof=0)\n",
        "print(std_population)"
      ],
      "metadata": {
        "colab": {
          "base_uri": "https://localhost:8080/"
        },
        "id": "eWm9j2ZbDfMl",
        "outputId": "49269cfa-33b0-46d6-b588-70f94b0b8e61"
      },
      "execution_count": 70,
      "outputs": [
        {
          "output_type": "stream",
          "name": "stdout",
          "text": [
            "2.685858187306438\n"
          ]
        }
      ]
    },
    {
      "cell_type": "code",
      "source": [
        "#For samples 5,40,80,320\n",
        "std_sample = coffee_ratings_df['total_cup_points'].sample(n=5, random_state=2022).std(ddof=1)\n",
        "print(std_sample)"
      ],
      "metadata": {
        "colab": {
          "base_uri": "https://localhost:8080/"
        },
        "id": "uvb37il5Wbma",
        "outputId": "49fdb185-9ea1-4fb9-9662-18f05d5ef36c"
      },
      "execution_count": 71,
      "outputs": [
        {
          "output_type": "stream",
          "name": "stdout",
          "text": [
            "3.1280473142201655\n"
          ]
        }
      ]
    },
    {
      "cell_type": "code",
      "source": [
        "std_sample_40 = coffee_ratings_df['total_cup_points'].sample(n=40, random_state=42).std(ddof=1)\n",
        "print(std_sample_40)"
      ],
      "metadata": {
        "colab": {
          "base_uri": "https://localhost:8080/"
        },
        "id": "Hz8W_r1VWv8f",
        "outputId": "cbecc709-839f-473f-c0d5-c0b3a8450965"
      },
      "execution_count": 72,
      "outputs": [
        {
          "output_type": "stream",
          "name": "stdout",
          "text": [
            "2.5930215890999553\n"
          ]
        }
      ]
    },
    {
      "cell_type": "code",
      "source": [
        "std_sample_80 = coffee_ratings_df['total_cup_points'].sample(n=80, random_state=2022).std(ddof=1)\n",
        "print(std_sample_80)"
      ],
      "metadata": {
        "colab": {
          "base_uri": "https://localhost:8080/"
        },
        "id": "oIl27vMqW2p6",
        "outputId": "0c0e7a07-18d7-42b5-8b47-638e24c0557d"
      },
      "execution_count": 73,
      "outputs": [
        {
          "output_type": "stream",
          "name": "stdout",
          "text": [
            "3.0028042563408515\n"
          ]
        }
      ]
    },
    {
      "cell_type": "code",
      "source": [
        "std_sample_320 = coffee_ratings_df['total_cup_points'].sample(n=320, random_state=2022).std(ddof=1)\n",
        "print(std_sample_320)"
      ],
      "metadata": {
        "colab": {
          "base_uri": "https://localhost:8080/"
        },
        "id": "xCLyCjEOXVO_",
        "outputId": "0b191adf-c780-4e30-e406-b83fddaabe08"
      },
      "execution_count": 74,
      "outputs": [
        {
          "output_type": "stream",
          "name": "stdout",
          "text": [
            "2.8644201483110256\n"
          ]
        }
      ]
    },
    {
      "cell_type": "markdown",
      "source": [
        "# Bootstrapping"
      ],
      "metadata": {
        "id": "mSDHDWODf26e"
      }
    },
    {
      "cell_type": "code",
      "source": [
        "#Boot strapping coffee flavours\n",
        "resample = coffee_ratings_df.sample(frac=1,replace=True) #making a resample of the same size as original data\n",
        "\n",
        "np.mean(coffee_ratings_df.sample(frac=1,replace=True)['flavor']) #Calculating the mean(statistics)\n",
        "\n",
        "#Repeating the process above 1000 times\n",
        "mean_flavors_1000 = []\n",
        "for i in range(1000):\n",
        "  mean_flavors_1000.append(np.mean(coffee_ratings_df.sample(frac=1,replace=True)['flavor']))"
      ],
      "metadata": {
        "id": "F4l8YizLf6_q"
      },
      "execution_count": 75,
      "outputs": []
    },
    {
      "cell_type": "code",
      "source": [
        "#visualize\n",
        "\n",
        "plt.hist(mean_flavors_1000, bins =15)\n",
        "plt.show()"
      ],
      "metadata": {
        "colab": {
          "base_uri": "https://localhost:8080/",
          "height": 430
        },
        "id": "R08zv9aThW6x",
        "outputId": "6c453748-1a8b-4579-da23-08f31a7eae43"
      },
      "execution_count": 77,
      "outputs": [
        {
          "output_type": "display_data",
          "data": {
            "text/plain": [
              "<Figure size 640x480 with 1 Axes>"
            ],
            "image/png": "[encoded data removed]"
          },
          "metadata": {}
        }
      ]
    }
  ]
}