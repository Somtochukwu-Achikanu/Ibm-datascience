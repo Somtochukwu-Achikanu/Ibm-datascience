{
  "nbformat": 4,
  "nbformat_minor": 0,
  "metadata": {
    "colab": {
      "provenance": [],
      "authorship_tag": "ABX9TyPfB8aDLMbgKuh8GIiEOteu",
      "include_colab_link": true
    },
    "kernelspec": {
      "name": "python3",
      "display_name": "Python 3"
    },
    "language_info": {
      "name": "python"
    }
  },
  "cells": [
    {
      "cell_type": "markdown",
      "metadata": {
        "id": "view-in-github",
        "colab_type": "text"
      },
      "source": [
        "<a href=\"https://colab.research.google.com/github/Somtochukwu-Achikanu/Ibm-datascience/blob/main/Anova.ipynb\" target=\"_parent\"><img src=\"https://colab.research.google.com/assets/colab-badge.svg\" alt=\"Open In Colab\"/></a>"
      ]
    },
    {
      "cell_type": "code",
      "execution_count": 4,
      "metadata": {
        "id": "87UC_3m2zNi3"
      },
      "outputs": [],
      "source": [
        "import pandas as pd\n",
        "import numpy as np\n",
        "import matplotlib.pyplot as plt\n",
        "import seaborn as sns"
      ]
    },
    {
      "cell_type": "code",
      "source": [
        "!pip install pingouin"
      ],
      "metadata": {
        "colab": {
          "base_uri": "https://localhost:8080/"
        },
        "id": "OIFSX8wUznKk",
        "outputId": "c1d8b8d9-80bd-4e1e-d1a1-f89e882b1518"
      },
      "execution_count": 1,
      "outputs": [
        {
          "output_type": "stream",
          "name": "stdout",
          "text": [
            "Collecting pingouin\n",
            "  Downloading pingouin-0.5.3-py3-none-any.whl (198 kB)\n",
            "\u001b[?25l     \u001b[90m━━━━━━━━━━━━━━━━━━━━━━━━━━━━━━━━━━━━━━━━\u001b[0m \u001b[32m0.0/198.6 kB\u001b[0m \u001b[31m?\u001b[0m eta \u001b[36m-:--:--\u001b[0m\r\u001b[2K     \u001b[91m━━━━━━\u001b[0m\u001b[90m╺\u001b[0m\u001b[90m━━━━━━━━━━━━━━━━━━━━━━━━━━━━━━━━━\u001b[0m \u001b[32m30.7/198.6 kB\u001b[0m \u001b[31m957.9 kB/s\u001b[0m eta \u001b[36m0:00:01\u001b[0m\r\u001b[2K     \u001b[91m━━━━━━━━━━━━━━━━━━━━━━━━━━━━\u001b[0m\u001b[91m╸\u001b[0m\u001b[90m━━━━━━━━━━━\u001b[0m \u001b[32m143.4/198.6 kB\u001b[0m \u001b[31m1.9 MB/s\u001b[0m eta \u001b[36m0:00:01\u001b[0m\r\u001b[2K     \u001b[90m━━━━━━━━━━━━━━━━━━━━━━━━━━━━━━━━━━━━━━━━\u001b[0m \u001b[32m198.6/198.6 kB\u001b[0m \u001b[31m2.0 MB/s\u001b[0m eta \u001b[36m0:00:00\u001b[0m\n",
            "\u001b[?25hRequirement already satisfied: numpy>=1.19 in /usr/local/lib/python3.10/dist-packages (from pingouin) (1.23.5)\n",
            "Requirement already satisfied: scipy>=1.7 in /usr/local/lib/python3.10/dist-packages (from pingouin) (1.11.3)\n",
            "Requirement already satisfied: pandas>=1.0 in /usr/local/lib/python3.10/dist-packages (from pingouin) (1.5.3)\n",
            "Requirement already satisfied: matplotlib>=3.0.2 in /usr/local/lib/python3.10/dist-packages (from pingouin) (3.7.1)\n",
            "Requirement already satisfied: seaborn>=0.11 in /usr/local/lib/python3.10/dist-packages (from pingouin) (0.12.2)\n",
            "Requirement already satisfied: statsmodels>=0.13 in /usr/local/lib/python3.10/dist-packages (from pingouin) (0.14.0)\n",
            "Requirement already satisfied: scikit-learn in /usr/local/lib/python3.10/dist-packages (from pingouin) (1.2.2)\n",
            "Collecting pandas-flavor>=0.2.0 (from pingouin)\n",
            "  Downloading pandas_flavor-0.6.0-py3-none-any.whl (7.2 kB)\n",
            "Collecting outdated (from pingouin)\n",
            "  Downloading outdated-0.2.2-py2.py3-none-any.whl (7.5 kB)\n",
            "Requirement already satisfied: tabulate in /usr/local/lib/python3.10/dist-packages (from pingouin) (0.9.0)\n",
            "Requirement already satisfied: contourpy>=1.0.1 in /usr/local/lib/python3.10/dist-packages (from matplotlib>=3.0.2->pingouin) (1.2.0)\n",
            "Requirement already satisfied: cycler>=0.10 in /usr/local/lib/python3.10/dist-packages (from matplotlib>=3.0.2->pingouin) (0.12.1)\n",
            "Requirement already satisfied: fonttools>=4.22.0 in /usr/local/lib/python3.10/dist-packages (from matplotlib>=3.0.2->pingouin) (4.44.0)\n",
            "Requirement already satisfied: kiwisolver>=1.0.1 in /usr/local/lib/python3.10/dist-packages (from matplotlib>=3.0.2->pingouin) (1.4.5)\n",
            "Requirement already satisfied: packaging>=20.0 in /usr/local/lib/python3.10/dist-packages (from matplotlib>=3.0.2->pingouin) (23.2)\n",
            "Requirement already satisfied: pillow>=6.2.0 in /usr/local/lib/python3.10/dist-packages (from matplotlib>=3.0.2->pingouin) (9.4.0)\n",
            "Requirement already satisfied: pyparsing>=2.3.1 in /usr/local/lib/python3.10/dist-packages (from matplotlib>=3.0.2->pingouin) (3.1.1)\n",
            "Requirement already satisfied: python-dateutil>=2.7 in /usr/local/lib/python3.10/dist-packages (from matplotlib>=3.0.2->pingouin) (2.8.2)\n",
            "Requirement already satisfied: pytz>=2020.1 in /usr/local/lib/python3.10/dist-packages (from pandas>=1.0->pingouin) (2023.3.post1)\n",
            "Requirement already satisfied: xarray in /usr/local/lib/python3.10/dist-packages (from pandas-flavor>=0.2.0->pingouin) (2023.7.0)\n",
            "Requirement already satisfied: patsy>=0.5.2 in /usr/local/lib/python3.10/dist-packages (from statsmodels>=0.13->pingouin) (0.5.3)\n",
            "Requirement already satisfied: setuptools>=44 in /usr/local/lib/python3.10/dist-packages (from outdated->pingouin) (67.7.2)\n",
            "Collecting littleutils (from outdated->pingouin)\n",
            "  Downloading littleutils-0.2.2.tar.gz (6.6 kB)\n",
            "  Preparing metadata (setup.py) ... \u001b[?25l\u001b[?25hdone\n",
            "Requirement already satisfied: requests in /usr/local/lib/python3.10/dist-packages (from outdated->pingouin) (2.31.0)\n",
            "Requirement already satisfied: joblib>=1.1.1 in /usr/local/lib/python3.10/dist-packages (from scikit-learn->pingouin) (1.3.2)\n",
            "Requirement already satisfied: threadpoolctl>=2.0.0 in /usr/local/lib/python3.10/dist-packages (from scikit-learn->pingouin) (3.2.0)\n",
            "Requirement already satisfied: six in /usr/local/lib/python3.10/dist-packages (from patsy>=0.5.2->statsmodels>=0.13->pingouin) (1.16.0)\n",
            "Requirement already satisfied: charset-normalizer<4,>=2 in /usr/local/lib/python3.10/dist-packages (from requests->outdated->pingouin) (3.3.2)\n",
            "Requirement already satisfied: idna<4,>=2.5 in /usr/local/lib/python3.10/dist-packages (from requests->outdated->pingouin) (3.4)\n",
            "Requirement already satisfied: urllib3<3,>=1.21.1 in /usr/local/lib/python3.10/dist-packages (from requests->outdated->pingouin) (2.0.7)\n",
            "Requirement already satisfied: certifi>=2017.4.17 in /usr/local/lib/python3.10/dist-packages (from requests->outdated->pingouin) (2023.7.22)\n",
            "Building wheels for collected packages: littleutils\n",
            "  Building wheel for littleutils (setup.py) ... \u001b[?25l\u001b[?25hdone\n",
            "  Created wheel for littleutils: filename=littleutils-0.2.2-py3-none-any.whl size=7029 sha256=0bf9f4b6dc5b89e39d3d6592616471703ccd2fbe381103873d93d0e2d54d0985\n",
            "  Stored in directory: /root/.cache/pip/wheels/3d/fe/b0/27a9892da57472e538c7452a721a9cf463cc03cf7379889266\n",
            "Successfully built littleutils\n",
            "Installing collected packages: littleutils, outdated, pandas-flavor, pingouin\n",
            "Successfully installed littleutils-0.2.2 outdated-0.2.2 pandas-flavor-0.6.0 pingouin-0.5.3\n"
          ]
        }
      ]
    },
    {
      "cell_type": "code",
      "source": [
        "late_shipment = pd.read_feather('/content/late_shipments.feather')\n",
        "print(late_shipment)"
      ],
      "metadata": {
        "colab": {
          "base_uri": "https://localhost:8080/"
        },
        "id": "BYleJFivzums",
        "outputId": "6b233456-3a52-4ed3-b5cf-f912149e1ea6"
      },
      "execution_count": 3,
      "outputs": [
        {
          "output_type": "stream",
          "name": "stdout",
          "text": [
            "          id       country managed_by  fulfill_via vendor_inco_term  \\\n",
            "0    36203.0       Nigeria   PMO - US  Direct Drop              EXW   \n",
            "1    30998.0      Botswana   PMO - US  Direct Drop              EXW   \n",
            "2    69871.0       Vietnam   PMO - US  Direct Drop              EXW   \n",
            "3    17648.0  South Africa   PMO - US  Direct Drop              DDP   \n",
            "4     5647.0        Uganda   PMO - US  Direct Drop              EXW   \n",
            "..       ...           ...        ...          ...              ...   \n",
            "995  13608.0        Uganda   PMO - US  Direct Drop              DDP   \n",
            "996  80394.0    Congo, DRC   PMO - US  Direct Drop              EXW   \n",
            "997  61675.0        Zambia   PMO - US  Direct Drop              EXW   \n",
            "998  39182.0  South Africa   PMO - US  Direct Drop              DDP   \n",
            "999   5645.0      Botswana   PMO - US  Direct Drop              EXW   \n",
            "\n",
            "    shipment_mode  late_delivery late product_group    sub_classification  \\\n",
            "0             Air            1.0  Yes          HRDT              HIV test   \n",
            "1             Air            0.0   No          HRDT              HIV test   \n",
            "2             Air            0.0   No           ARV                 Adult   \n",
            "3           Ocean            0.0   No           ARV                 Adult   \n",
            "4             Air            0.0   No          HRDT  HIV test - Ancillary   \n",
            "..            ...            ...  ...           ...                   ...   \n",
            "995           Air            0.0   No           ARV                 Adult   \n",
            "996           Air            0.0   No          HRDT              HIV test   \n",
            "997           Air            1.0  Yes          HRDT              HIV test   \n",
            "998         Ocean            0.0   No           ARV                 Adult   \n",
            "999           Air            0.0   No          HRDT              HIV test   \n",
            "\n",
            "     ... line_item_quantity line_item_value pack_price unit_price  \\\n",
            "0    ...             2996.0       266644.00      89.00       0.89   \n",
            "1    ...               25.0          800.00      32.00       1.60   \n",
            "2    ...            22925.0       110040.00       4.80       0.08   \n",
            "3    ...           152535.0       361507.95       2.37       0.04   \n",
            "4    ...              850.0            8.50       0.01       0.00   \n",
            "..   ...                ...             ...        ...        ...   \n",
            "995  ...              121.0         9075.00      75.00       0.62   \n",
            "996  ...              292.0         9344.00      32.00       1.60   \n",
            "997  ...             2127.0       170160.00      80.00       0.80   \n",
            "998  ...           191011.0       861459.61       4.51       0.15   \n",
            "999  ...              200.0        14398.00      71.99       0.72   \n",
            "\n",
            "               manufacturing_site first_line_designation  weight_kilograms  \\\n",
            "0         Alere Medical Co., Ltd.                    Yes            1426.0   \n",
            "1            Trinity Biotech, Plc                    Yes              10.0   \n",
            "2    Hetero Unit III Hyderabad IN                    Yes            3723.0   \n",
            "3       Aurobindo Unit III, India                    Yes            7698.0   \n",
            "4                 Inverness Japan                    Yes              56.0   \n",
            "..                            ...                    ...               ...   \n",
            "995     Janssen-Cilag, Latina, IT                    Yes              43.0   \n",
            "996          Trinity Biotech, Plc                    Yes              99.0   \n",
            "997       Alere Medical Co., Ltd.                    Yes             881.0   \n",
            "998     Aurobindo Unit III, India                    Yes           16234.0   \n",
            "999               Inverness Japan                    Yes              46.0   \n",
            "\n",
            "     freight_cost_usd  freight_cost_groups  line_item_insurance_usd  \n",
            "0            33279.83            expensive                   373.83  \n",
            "1              559.89           reasonable                     1.72  \n",
            "2            19056.13            expensive                   181.57  \n",
            "3            11372.23            expensive                   779.41  \n",
            "4              360.00           reasonable                     0.01  \n",
            "..                ...                  ...                      ...  \n",
            "995            199.00           reasonable                    12.72  \n",
            "996           2162.55           reasonable                    13.10  \n",
            "997          14019.38            expensive                   210.49  \n",
            "998          14439.17            expensive                  1421.41  \n",
            "999           1028.18           reasonable                    23.04  \n",
            "\n",
            "[1000 rows x 27 columns]\n"
          ]
        }
      ]
    },
    {
      "cell_type": "markdown",
      "source": [
        "Here, we'll return to the late shipments data, and how the price of each package (pack_price) varies between the three shipment modes (shipment_mode): \"Air\", \"Air Charter\", and \"Ocean\""
      ],
      "metadata": {
        "id": "0Xj1xpS-z7zV"
      }
    },
    {
      "cell_type": "code",
      "source": [
        "#To first understand and analyse the data\n",
        "\n",
        "# The mean pack_price for each shipment_mode\n",
        "xbar_pack_by_mode = late_shipment.groupby(\"shipment_mode\")['pack_price'].mean()\n",
        "\n",
        "# The standard deviation of the pack_price for each shipment_mode\n",
        "s_pack_by_mode = late_shipment.groupby(\"shipment_mode\")['pack_price'].std()\n",
        "\n",
        "# Boxplot of shipment_mode vs. pack_price\n",
        "sns.boxplot(x='pack_price',y='shipment_mode', data=late_shipment)\n",
        "plt.show()"
      ],
      "metadata": {
        "colab": {
          "base_uri": "https://localhost:8080/",
          "height": 450
        },
        "id": "LiCzyTcVz2AH",
        "outputId": "9691d276-a9fa-4f9d-c78c-6e632ff5f374"
      },
      "execution_count": 5,
      "outputs": [
        {
          "output_type": "display_data",
          "data": {
            "text/plain": [
              "<Figure size 640x480 with 1 Axes>"
            ],
            "image/png": "[encoded data removed]"
          },
          "metadata": {}
        }
      ]
    },
    {
      "cell_type": "markdown",
      "source": [
        "Anova Test is conducted to check the difference statistically between the three groups which are Air, Ocean and Air Charter"
      ],
      "metadata": {
        "id": "pOHAesRN03S-"
      }
    },
    {
      "cell_type": "code",
      "source": [
        "#Running an Anova test\n",
        "import pingouin\n",
        "anova_results = pingouin.anova(data=late_shipment, dv='pack_price',between='shipment_mode')\n",
        "print(anova_results)"
      ],
      "metadata": {
        "colab": {
          "base_uri": "https://localhost:8080/"
        },
        "id": "CGJq0eIC1CAx",
        "outputId": "5cc91d01-ceb1-4bf5-c33b-e3457bfb6fb2"
      },
      "execution_count": 7,
      "outputs": [
        {
          "output_type": "stream",
          "name": "stdout",
          "text": [
            "          Source  ddof1  ddof2        F         p-unc       np2\n",
            "0  shipment_mode      2    997  21.8646  5.089479e-10  0.042018\n"
          ]
        }
      ]
    },
    {
      "cell_type": "markdown",
      "source": [
        "Assuming a significance level of 0.1,The p value is less than or equal to the significant level so the null hypothesis should be rejected"
      ],
      "metadata": {
        "id": "6FytE4Tv2NcX"
      }
    },
    {
      "cell_type": "markdown",
      "source": [
        "# Pairwise Tests"
      ],
      "metadata": {
        "id": "TOMLTnmk2cFb"
      }
    },
    {
      "cell_type": "code",
      "source": [
        "#Performing a pairwise t-tests on late_shipments's pack_price variable, grouped by shipment_mode, without doing any p-value adjustment\n",
        "pairwise_results = pingouin.pairwise_tests(data=late_shipment, dv='pack_price', between='shipment_mode', padjust='None')\n",
        "print(pairwise_results)"
      ],
      "metadata": {
        "colab": {
          "base_uri": "https://localhost:8080/"
        },
        "id": "QLk_EgZq2gdU",
        "outputId": "a70f248f-7dcb-48ba-de19-a1674582d002"
      },
      "execution_count": 8,
      "outputs": [
        {
          "output_type": "stream",
          "name": "stdout",
          "text": [
            "        Contrast            A            B  Paired  Parametric          T  \\\n",
            "0  shipment_mode          Air  Air Charter   False        True  21.179625   \n",
            "1  shipment_mode          Air        Ocean   False        True  19.335760   \n",
            "2  shipment_mode  Air Charter        Ocean   False        True  -3.170654   \n",
            "\n",
            "          dof alternative         p-unc       BF10    hedges  \n",
            "0  600.685682   two-sided  8.748346e-75  5.809e+76  0.726592  \n",
            "1  986.979785   two-sided  6.934555e-71  1.129e+67  0.711119  \n",
            "2   35.615026   two-sided  3.123012e-03     15.277 -0.423775  \n"
          ]
        }
      ]
    },
    {
      "cell_type": "code",
      "source": [
        "#Modifying the p value using the Bonferroni p-value adjustment\n",
        "pairwise_results = pingouin.pairwise_tests(data=late_shipment, dv='pack_price', between='shipment_mode', padjust='bonf')\n",
        "print(pairwise_results)"
      ],
      "metadata": {
        "colab": {
          "base_uri": "https://localhost:8080/"
        },
        "id": "9_YYLZ5y3UOP",
        "outputId": "987ef3ef-3cc9-4fb0-b99c-90103520266e"
      },
      "execution_count": 10,
      "outputs": [
        {
          "output_type": "stream",
          "name": "stdout",
          "text": [
            "        Contrast            A            B  Paired  Parametric          T  \\\n",
            "0  shipment_mode          Air  Air Charter   False        True  21.179625   \n",
            "1  shipment_mode          Air        Ocean   False        True  19.335760   \n",
            "2  shipment_mode  Air Charter        Ocean   False        True  -3.170654   \n",
            "\n",
            "          dof alternative         p-unc        p-corr p-adjust       BF10  \\\n",
            "0  600.685682   two-sided  8.748346e-75  2.624504e-74     bonf  5.809e+76   \n",
            "1  986.979785   two-sided  6.934555e-71  2.080367e-70     bonf  1.129e+67   \n",
            "2   35.615026   two-sided  3.123012e-03  9.369037e-03     bonf     15.277   \n",
            "\n",
            "     hedges  \n",
            "0  0.726592  \n",
            "1  0.711119  \n",
            "2 -0.423775  \n"
          ]
        }
      ]
    },
    {
      "cell_type": "markdown",
      "source": [
        "Using the Bonferroni correction results and assuming a significance level of 0.1,the Ocean and Air Charter, ocen and air, Air charter and Air pairs are all less than o.1,so the null hypothesis should be rejected"
      ],
      "metadata": {
        "id": "FUhNLshJ4yXb"
      }
    }
  ]
}