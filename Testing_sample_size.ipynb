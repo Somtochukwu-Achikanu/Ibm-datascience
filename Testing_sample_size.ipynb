{
  "nbformat": 4,
  "nbformat_minor": 0,
  "metadata": {
    "colab": {
      "provenance": [],
      "authorship_tag": "ABX9TyMFuLbjQtWDHUwcsS25ZuY6",
      "include_colab_link": true
    },
    "kernelspec": {
      "name": "python3",
      "display_name": "Python 3"
    },
    "language_info": {
      "name": "python"
    }
  },
  "cells": [
    {
      "cell_type": "markdown",
      "metadata": {
        "id": "view-in-github",
        "colab_type": "text"
      },
      "source": [
        "<a href=\"https://colab.research.google.com/github/Somtochukwu-Achikanu/Ibm-datascience/blob/main/Testing_sample_size.ipynb\" target=\"_parent\"><img src=\"https://colab.research.google.com/assets/colab-badge.svg\" alt=\"Open In Colab\"/></a>"
      ]
    },
    {
      "cell_type": "markdown",
      "source": [
        "\n",
        "In order to conduct a hypothesis test and be sure that the result is fair, a sample must meet three requirements: it is a random sample of the population, the observations are independent, and there are enough observations. Of these, only the last condition is easily testable with code.\n"
      ],
      "metadata": {
        "id": "8NDWd7VAa6yG"
      }
    },
    {
      "cell_type": "code",
      "source": [
        "import pandas as pd"
      ],
      "metadata": {
        "id": "6RXxPxVfbl1K"
      },
      "execution_count": 1,
      "outputs": []
    },
    {
      "cell_type": "code",
      "source": [
        "late_shipment = pd.read_feather('/content/late_shipments.feather')\n",
        "print(late_shipment.head())"
      ],
      "metadata": {
        "colab": {
          "base_uri": "https://localhost:8080/"
        },
        "id": "-R_PV3NKcAYm",
        "outputId": "c963a6f0-5198-4ff5-986c-ac4346c4a889"
      },
      "execution_count": 2,
      "outputs": [
        {
          "output_type": "stream",
          "name": "stdout",
          "text": [
            "        id       country managed_by  fulfill_via vendor_inco_term  \\\n",
            "0  36203.0       Nigeria   PMO - US  Direct Drop              EXW   \n",
            "1  30998.0      Botswana   PMO - US  Direct Drop              EXW   \n",
            "2  69871.0       Vietnam   PMO - US  Direct Drop              EXW   \n",
            "3  17648.0  South Africa   PMO - US  Direct Drop              DDP   \n",
            "4   5647.0        Uganda   PMO - US  Direct Drop              EXW   \n",
            "\n",
            "  shipment_mode  late_delivery late product_group    sub_classification  ...  \\\n",
            "0           Air            1.0  Yes          HRDT              HIV test  ...   \n",
            "1           Air            0.0   No          HRDT              HIV test  ...   \n",
            "2           Air            0.0   No           ARV                 Adult  ...   \n",
            "3         Ocean            0.0   No           ARV                 Adult  ...   \n",
            "4           Air            0.0   No          HRDT  HIV test - Ancillary  ...   \n",
            "\n",
            "  line_item_quantity line_item_value pack_price unit_price  \\\n",
            "0             2996.0       266644.00      89.00       0.89   \n",
            "1               25.0          800.00      32.00       1.60   \n",
            "2            22925.0       110040.00       4.80       0.08   \n",
            "3           152535.0       361507.95       2.37       0.04   \n",
            "4              850.0            8.50       0.01       0.00   \n",
            "\n",
            "             manufacturing_site first_line_designation  weight_kilograms  \\\n",
            "0       Alere Medical Co., Ltd.                    Yes            1426.0   \n",
            "1          Trinity Biotech, Plc                    Yes              10.0   \n",
            "2  Hetero Unit III Hyderabad IN                    Yes            3723.0   \n",
            "3     Aurobindo Unit III, India                    Yes            7698.0   \n",
            "4               Inverness Japan                    Yes              56.0   \n",
            "\n",
            "   freight_cost_usd  freight_cost_groups  line_item_insurance_usd  \n",
            "0          33279.83            expensive                   373.83  \n",
            "1            559.89           reasonable                     1.72  \n",
            "2          19056.13            expensive                   181.57  \n",
            "3          11372.23            expensive                   779.41  \n",
            "4            360.00           reasonable                     0.01  \n",
            "\n",
            "[5 rows x 27 columns]\n"
          ]
        }
      ]
    },
    {
      "cell_type": "markdown",
      "source": [
        "Question 1: Get the count of each value in the freight_cost_group column of late_shipments.\n",
        "Insert a suitable number to inspect whether the counts are \"big enough\" for a two sample t-test."
      ],
      "metadata": {
        "id": "OZ3HQGiscKKY"
      }
    },
    {
      "cell_type": "code",
      "source": [
        "counts = late_shipment['freight_cost_groups'].value_counts()\n",
        "print(counts)\n",
        "\n",
        "# Inspect whether the counts are big enough\n",
        "print((counts >= 30).all())"
      ],
      "metadata": {
        "colab": {
          "base_uri": "https://localhost:8080/"
        },
        "id": "zxDUa0nucNPU",
        "outputId": "a5e3e08d-4d39-4f66-8307-993840fe2672"
      },
      "execution_count": 3,
      "outputs": [
        {
          "output_type": "stream",
          "name": "stdout",
          "text": [
            "expensive     531\n",
            "reasonable    455\n",
            "Name: freight_cost_groups, dtype: int64\n",
            "True\n"
          ]
        }
      ]
    },
    {
      "cell_type": "markdown",
      "source": [
        "Question 2:Get the count of each value in the late column of late_shipments.\n",
        "Insert a suitable number to inspect whether the counts are \"big enough\" for a one sample proportion test"
      ],
      "metadata": {
        "id": "q8vI7L6sce4p"
      }
    },
    {
      "cell_type": "code",
      "source": [
        "counts = late_shipment['late'].value_counts()\n",
        "print(counts)\n",
        "\n",
        "# Inspect whether the counts are big enough\n",
        "print((counts >= 10).all())"
      ],
      "metadata": {
        "colab": {
          "base_uri": "https://localhost:8080/"
        },
        "id": "e_unFLRscyZE",
        "outputId": "9f696a0e-f157-423c-d8b8-2132ff7ea5c1"
      },
      "execution_count": 4,
      "outputs": [
        {
          "output_type": "stream",
          "name": "stdout",
          "text": [
            "No     939\n",
            "Yes     61\n",
            "Name: late, dtype: int64\n",
            "True\n"
          ]
        }
      ]
    },
    {
      "cell_type": "markdown",
      "source": [
        "Question 3: Get the count of each value in the freight_cost_group column of late_shipments grouped by vendor_inco_term.\n",
        "Insert a suitable number to inspect whether the counts are \"big enough\" for a chi-square independence test."
      ],
      "metadata": {
        "id": "syFtHB07c-JH"
      }
    },
    {
      "cell_type": "code",
      "source": [
        "counts = late_shipment.groupby('vendor_inco_term')['freight_cost_groups'].value_counts()\n",
        "print(counts)\n",
        "\n",
        "# Inspect whether the counts are big enough\n",
        "print((counts >= 5).all())"
      ],
      "metadata": {
        "colab": {
          "base_uri": "https://localhost:8080/"
        },
        "id": "btwjiPZudcQK",
        "outputId": "e95725ea-5424-43df-f9e7-96a57e098860"
      },
      "execution_count": 7,
      "outputs": [
        {
          "output_type": "stream",
          "name": "stdout",
          "text": [
            "vendor_inco_term  freight_cost_groups\n",
            "CIP               reasonable              34\n",
            "                  expensive               16\n",
            "DDP               expensive               55\n",
            "                  reasonable              45\n",
            "DDU               reasonable               1\n",
            "EXW               expensive              423\n",
            "                  reasonable             302\n",
            "FCA               reasonable              73\n",
            "                  expensive               37\n",
            "Name: freight_cost_groups, dtype: int64\n",
            "False\n"
          ]
        }
      ]
    },
    {
      "cell_type": "markdown",
      "source": [
        "Question 4: Get the count of each value in the shipment_mode column of late_shipments.\n",
        "Insert a suitable number to inspect whether the counts are \"big enough\" for an ANOVA test"
      ],
      "metadata": {
        "id": "jauYh2zgeW_L"
      }
    },
    {
      "cell_type": "code",
      "source": [
        "# Count the shipment_mode values\n",
        "counts = late_shipment['shipment_mode'].value_counts()\n",
        "\n",
        "# Print the result\n",
        "print(counts)\n",
        "\n",
        "# Inspect whether the counts are big enough\n",
        "print((counts >= 30).all())"
      ],
      "metadata": {
        "colab": {
          "base_uri": "https://localhost:8080/"
        },
        "id": "9692lROteWbJ",
        "outputId": "05087ea2-7378-489b-e644-82bcdb2c48d1"
      },
      "execution_count": 9,
      "outputs": [
        {
          "output_type": "stream",
          "name": "stdout",
          "text": [
            "Air            906\n",
            "Ocean           88\n",
            "Air Charter      6\n",
            "Name: shipment_mode, dtype: int64\n",
            "False\n"
          ]
        }
      ]
    }
  ]
}