{
  "nbformat": 4,
  "nbformat_minor": 0,
  "metadata": {
    "colab": {
      "provenance": [],
      "authorship_tag": "ABX9TyNMADToHLZiO5wqdCJywkJw",
      "include_colab_link": true
    },
    "kernelspec": {
      "name": "python3",
      "display_name": "Python 3"
    },
    "language_info": {
      "name": "python"
    }
  },
  "cells": [
    {
      "cell_type": "markdown",
      "metadata": {
        "id": "view-in-github",
        "colab_type": "text"
      },
      "source": [
        "<a href=\"https://colab.research.google.com/github/Somtochukwu-Achikanu/Ibm-datascience/blob/main/Two_sample_proportion_2.ipynb\" target=\"_parent\"><img src=\"https://colab.research.google.com/assets/colab-badge.svg\" alt=\"Open In Colab\"/></a>"
      ]
    },
    {
      "cell_type": "code",
      "execution_count": 18,
      "metadata": {
        "id": "cGnUW1GIH2yb"
      },
      "outputs": [],
      "source": [
        "import pandas as pd\n",
        "import numpy as np\n",
        "from scipy.stats import norm"
      ]
    },
    {
      "cell_type": "code",
      "source": [
        "late_shipments = pd.read_feather('/content/late_shipments.feather')\n",
        "print(late_shipments.head())"
      ],
      "metadata": {
        "colab": {
          "base_uri": "https://localhost:8080/"
        },
        "id": "grjeDy5nIoUg",
        "outputId": "ca03f82a-fb3b-4cea-8da7-3dafa27fb5ca"
      },
      "execution_count": 3,
      "outputs": [
        {
          "output_type": "stream",
          "name": "stdout",
          "text": [
            "        id       country managed_by  fulfill_via vendor_inco_term  \\\n",
            "0  36203.0       Nigeria   PMO - US  Direct Drop              EXW   \n",
            "1  30998.0      Botswana   PMO - US  Direct Drop              EXW   \n",
            "2  69871.0       Vietnam   PMO - US  Direct Drop              EXW   \n",
            "3  17648.0  South Africa   PMO - US  Direct Drop              DDP   \n",
            "4   5647.0        Uganda   PMO - US  Direct Drop              EXW   \n",
            "\n",
            "  shipment_mode  late_delivery late product_group    sub_classification  ...  \\\n",
            "0           Air            1.0  Yes          HRDT              HIV test  ...   \n",
            "1           Air            0.0   No          HRDT              HIV test  ...   \n",
            "2           Air            0.0   No           ARV                 Adult  ...   \n",
            "3         Ocean            0.0   No           ARV                 Adult  ...   \n",
            "4           Air            0.0   No          HRDT  HIV test - Ancillary  ...   \n",
            "\n",
            "  line_item_quantity line_item_value pack_price unit_price  \\\n",
            "0             2996.0       266644.00      89.00       0.89   \n",
            "1               25.0          800.00      32.00       1.60   \n",
            "2            22925.0       110040.00       4.80       0.08   \n",
            "3           152535.0       361507.95       2.37       0.04   \n",
            "4              850.0            8.50       0.01       0.00   \n",
            "\n",
            "             manufacturing_site first_line_designation  weight_kilograms  \\\n",
            "0       Alere Medical Co., Ltd.                    Yes            1426.0   \n",
            "1          Trinity Biotech, Plc                    Yes              10.0   \n",
            "2  Hetero Unit III Hyderabad IN                    Yes            3723.0   \n",
            "3     Aurobindo Unit III, India                    Yes            7698.0   \n",
            "4               Inverness Japan                    Yes              56.0   \n",
            "\n",
            "   freight_cost_usd  freight_cost_groups  line_item_insurance_usd  \n",
            "0          33279.83            expensive                   373.83  \n",
            "1            559.89           reasonable                     1.72  \n",
            "2          19056.13            expensive                   181.57  \n",
            "3          11372.23            expensive                   779.41  \n",
            "4            360.00           reasonable                     0.01  \n",
            "\n",
            "[5 rows x 27 columns]\n"
          ]
        }
      ]
    },
    {
      "cell_type": "markdown",
      "source": [
        "H0 :  proportions of expensive shipments are same with reasonable late shipments\n",
        "HA : proportions of expensive shipments are different with reasonable late shipments(Hexperience - Hreasonable > 0)"
      ],
      "metadata": {
        "id": "RXO75p5uJN-w"
      }
    },
    {
      "cell_type": "code",
      "source": [
        "p_hats = late_shipments.groupby('freight_cost_groups')['late'].value_counts(normalize=True)\n",
        "print(p_hats)"
      ],
      "metadata": {
        "colab": {
          "base_uri": "https://localhost:8080/"
        },
        "id": "b9uGVzmJI_OV",
        "outputId": "d51afb5d-896e-4b91-dfc9-f5d82100c76d"
      },
      "execution_count": 4,
      "outputs": [
        {
          "output_type": "stream",
          "name": "stdout",
          "text": [
            "freight_cost_groups  late\n",
            "expensive            No      0.920904\n",
            "                     Yes     0.079096\n",
            "reasonable           No      0.964835\n",
            "                     Yes     0.035165\n",
            "Name: late, dtype: float64\n"
          ]
        }
      ]
    },
    {
      "cell_type": "code",
      "source": [
        "n_shipment = late_shipments.groupby('freight_cost_groups')['late'].count()\n",
        "print(n_shipment)"
      ],
      "metadata": {
        "colab": {
          "base_uri": "https://localhost:8080/"
        },
        "id": "YFg5MywTKSmy",
        "outputId": "eaba9b2c-5f4f-4185-f820-81c37e285f4e"
      },
      "execution_count": 5,
      "outputs": [
        {
          "output_type": "stream",
          "name": "stdout",
          "text": [
            "freight_cost_groups\n",
            "expensive     531\n",
            "reasonable    455\n",
            "Name: late, dtype: int64\n"
          ]
        }
      ]
    },
    {
      "cell_type": "markdown",
      "source": [
        "Z_score"
      ],
      "metadata": {
        "id": "iGWoJO4MKe_F"
      }
    },
    {
      "cell_type": "code",
      "source": [
        "# Calculate the pooled estimate of the population proportion\n",
        "p_hat = (p_hats[\"expensive\",'Yes'] * n_shipment[\"expensive\"] + p_hats[\"reasonable\",'Yes'] * n_shipment[\"reasonable\"]) / (n_shipment[\"expensive\"] + n_shipment[\"reasonable\"])\n",
        "print(p_hat)"
      ],
      "metadata": {
        "colab": {
          "base_uri": "https://localhost:8080/"
        },
        "id": "OegT961nKnbA",
        "outputId": "0df89f28-a18d-462b-8f46-df2ce8c041cf"
      },
      "execution_count": 14,
      "outputs": [
        {
          "output_type": "stream",
          "name": "stdout",
          "text": [
            "0.058823529411764705\n"
          ]
        }
      ]
    },
    {
      "cell_type": "code",
      "source": [
        "SE = np.sqrt((p_hat * (1 - p_hat)/n_shipment[\"expensive\"])+(p_hat * (1 - p_hat)/n_shipment[\"reasonable\"]))\n",
        "print(SE)"
      ],
      "metadata": {
        "colab": {
          "base_uri": "https://localhost:8080/"
        },
        "id": "AOvWz5MschiG",
        "outputId": "6aa64b6d-5539-4b34-a9fb-df4f59e4a9da"
      },
      "execution_count": 15,
      "outputs": [
        {
          "output_type": "stream",
          "name": "stdout",
          "text": [
            "0.015031300895066685\n"
          ]
        }
      ]
    },
    {
      "cell_type": "code",
      "source": [
        "z_score = (p_hats['expensive','Yes'] - p_hats['reasonable','Yes']) / SE\n",
        "print(z_score)"
      ],
      "metadata": {
        "colab": {
          "base_uri": "https://localhost:8080/"
        },
        "id": "_4ZTtt41dHx6",
        "outputId": "13a6de52-7dbc-4188-acdb-2b9354140e8b"
      },
      "execution_count": 17,
      "outputs": [
        {
          "output_type": "stream",
          "name": "stdout",
          "text": [
            "2.922648567784529\n"
          ]
        }
      ]
    },
    {
      "cell_type": "markdown",
      "source": [
        "P_value from z_score"
      ],
      "metadata": {
        "id": "JZ9-MhETpqb5"
      }
    },
    {
      "cell_type": "code",
      "source": [
        "#Since alternative is 'less'\n",
        "\n",
        "p_value = 1 - norm.cdf(z_score)\n",
        "print(p_value)"
      ],
      "metadata": {
        "colab": {
          "base_uri": "https://localhost:8080/"
        },
        "id": "g8TgfCE_ps64",
        "outputId": "14960018-2de4-4684-bd96-104eee3fdd2d"
      },
      "execution_count": 19,
      "outputs": [
        {
          "output_type": "stream",
          "name": "stdout",
          "text": [
            "0.0017353400023595311\n"
          ]
        }
      ]
    },
    {
      "cell_type": "markdown",
      "source": [
        "This tiny p-value leads us to suspect there is a larger proportion of late shipments for expensive freight compared to reasonable freight"
      ],
      "metadata": {
        "id": "raQPiOcgq5Z8"
      }
    }
  ]
}