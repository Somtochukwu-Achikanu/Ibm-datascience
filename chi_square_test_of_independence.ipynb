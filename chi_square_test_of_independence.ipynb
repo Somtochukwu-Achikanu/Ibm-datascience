{
  "nbformat": 4,
  "nbformat_minor": 0,
  "metadata": {
    "colab": {
      "provenance": [],
      "authorship_tag": "ABX9TyMVPYMhTEF5GyWzsoKvuYv9",
      "include_colab_link": true
    },
    "kernelspec": {
      "name": "python3",
      "display_name": "Python 3"
    },
    "language_info": {
      "name": "python"
    }
  },
  "cells": [
    {
      "cell_type": "markdown",
      "metadata": {
        "id": "view-in-github",
        "colab_type": "text"
      },
      "source": [
        "<a href=\"https://colab.research.google.com/github/Somtochukwu-Achikanu/Ibm-datascience/blob/main/chi_square_test_of_independence.ipynb\" target=\"_parent\"><img src=\"https://colab.research.google.com/assets/colab-badge.svg\" alt=\"Open In Colab\"/></a>"
      ]
    },
    {
      "cell_type": "code",
      "source": [
        "!pip install pingouin"
      ],
      "metadata": {
        "colab": {
          "base_uri": "https://localhost:8080/"
        },
        "id": "vWAstWHpBeWl",
        "outputId": "c4954efd-4b32-4d34-fd5b-5ffb8ecb7e02"
      },
      "execution_count": 3,
      "outputs": [
        {
          "output_type": "stream",
          "name": "stdout",
          "text": [
            "Collecting pingouin\n",
            "  Downloading pingouin-0.5.4-py2.py3-none-any.whl (198 kB)\n",
            "\u001b[2K     \u001b[90m━━━━━━━━━━━━━━━━━━━━━━━━━━━━━━━━━━━━━━━━\u001b[0m \u001b[32m198.9/198.9 kB\u001b[0m \u001b[31m3.5 MB/s\u001b[0m eta \u001b[36m0:00:00\u001b[0m\n",
            "\u001b[?25hRequirement already satisfied: numpy in /usr/local/lib/python3.10/dist-packages (from pingouin) (1.23.5)\n",
            "Requirement already satisfied: scipy in /usr/local/lib/python3.10/dist-packages (from pingouin) (1.11.4)\n",
            "Requirement already satisfied: pandas>=1.5 in /usr/local/lib/python3.10/dist-packages (from pingouin) (1.5.3)\n",
            "Requirement already satisfied: matplotlib in /usr/local/lib/python3.10/dist-packages (from pingouin) (3.7.1)\n",
            "Requirement already satisfied: seaborn in /usr/local/lib/python3.10/dist-packages (from pingouin) (0.13.1)\n",
            "Requirement already satisfied: statsmodels in /usr/local/lib/python3.10/dist-packages (from pingouin) (0.14.1)\n",
            "Requirement already satisfied: scikit-learn in /usr/local/lib/python3.10/dist-packages (from pingouin) (1.2.2)\n",
            "Collecting pandas-flavor (from pingouin)\n",
            "  Downloading pandas_flavor-0.6.0-py3-none-any.whl (7.2 kB)\n",
            "Requirement already satisfied: tabulate in /usr/local/lib/python3.10/dist-packages (from pingouin) (0.9.0)\n",
            "Requirement already satisfied: python-dateutil>=2.8.1 in /usr/local/lib/python3.10/dist-packages (from pandas>=1.5->pingouin) (2.8.2)\n",
            "Requirement already satisfied: pytz>=2020.1 in /usr/local/lib/python3.10/dist-packages (from pandas>=1.5->pingouin) (2023.3.post1)\n",
            "Requirement already satisfied: contourpy>=1.0.1 in /usr/local/lib/python3.10/dist-packages (from matplotlib->pingouin) (1.2.0)\n",
            "Requirement already satisfied: cycler>=0.10 in /usr/local/lib/python3.10/dist-packages (from matplotlib->pingouin) (0.12.1)\n",
            "Requirement already satisfied: fonttools>=4.22.0 in /usr/local/lib/python3.10/dist-packages (from matplotlib->pingouin) (4.47.2)\n",
            "Requirement already satisfied: kiwisolver>=1.0.1 in /usr/local/lib/python3.10/dist-packages (from matplotlib->pingouin) (1.4.5)\n",
            "Requirement already satisfied: packaging>=20.0 in /usr/local/lib/python3.10/dist-packages (from matplotlib->pingouin) (23.2)\n",
            "Requirement already satisfied: pillow>=6.2.0 in /usr/local/lib/python3.10/dist-packages (from matplotlib->pingouin) (9.4.0)\n",
            "Requirement already satisfied: pyparsing>=2.3.1 in /usr/local/lib/python3.10/dist-packages (from matplotlib->pingouin) (3.1.1)\n",
            "Requirement already satisfied: xarray in /usr/local/lib/python3.10/dist-packages (from pandas-flavor->pingouin) (2023.7.0)\n",
            "Requirement already satisfied: joblib>=1.1.1 in /usr/local/lib/python3.10/dist-packages (from scikit-learn->pingouin) (1.3.2)\n",
            "Requirement already satisfied: threadpoolctl>=2.0.0 in /usr/local/lib/python3.10/dist-packages (from scikit-learn->pingouin) (3.2.0)\n",
            "Requirement already satisfied: patsy>=0.5.4 in /usr/local/lib/python3.10/dist-packages (from statsmodels->pingouin) (0.5.6)\n",
            "Requirement already satisfied: six in /usr/local/lib/python3.10/dist-packages (from patsy>=0.5.4->statsmodels->pingouin) (1.16.0)\n",
            "Installing collected packages: pandas-flavor, pingouin\n",
            "Successfully installed pandas-flavor-0.6.0 pingouin-0.5.4\n"
          ]
        }
      ]
    },
    {
      "cell_type": "code",
      "execution_count": 8,
      "metadata": {
        "id": "Wg-xVJ0a-1jT"
      },
      "outputs": [],
      "source": [
        "import pandas as pd\n",
        "import pingouin\n",
        "import numpy as np\n",
        "import matplotlib.pyplot as plt"
      ]
    },
    {
      "cell_type": "code",
      "source": [
        "late_shipment = pd.read_feather('/content/late_shipments.feather')\n",
        "print(late_shipment)"
      ],
      "metadata": {
        "colab": {
          "base_uri": "https://localhost:8080/"
        },
        "id": "LoT_RhbSBoNR",
        "outputId": "67de4273-1697-4835-d14e-fe66f60772c2"
      },
      "execution_count": 5,
      "outputs": [
        {
          "output_type": "stream",
          "name": "stdout",
          "text": [
            "          id       country managed_by  fulfill_via vendor_inco_term  \\\n",
            "0    36203.0       Nigeria   PMO - US  Direct Drop              EXW   \n",
            "1    30998.0      Botswana   PMO - US  Direct Drop              EXW   \n",
            "2    69871.0       Vietnam   PMO - US  Direct Drop              EXW   \n",
            "3    17648.0  South Africa   PMO - US  Direct Drop              DDP   \n",
            "4     5647.0        Uganda   PMO - US  Direct Drop              EXW   \n",
            "..       ...           ...        ...          ...              ...   \n",
            "995  13608.0        Uganda   PMO - US  Direct Drop              DDP   \n",
            "996  80394.0    Congo, DRC   PMO - US  Direct Drop              EXW   \n",
            "997  61675.0        Zambia   PMO - US  Direct Drop              EXW   \n",
            "998  39182.0  South Africa   PMO - US  Direct Drop              DDP   \n",
            "999   5645.0      Botswana   PMO - US  Direct Drop              EXW   \n",
            "\n",
            "    shipment_mode  late_delivery late product_group    sub_classification  \\\n",
            "0             Air            1.0  Yes          HRDT              HIV test   \n",
            "1             Air            0.0   No          HRDT              HIV test   \n",
            "2             Air            0.0   No           ARV                 Adult   \n",
            "3           Ocean            0.0   No           ARV                 Adult   \n",
            "4             Air            0.0   No          HRDT  HIV test - Ancillary   \n",
            "..            ...            ...  ...           ...                   ...   \n",
            "995           Air            0.0   No           ARV                 Adult   \n",
            "996           Air            0.0   No          HRDT              HIV test   \n",
            "997           Air            1.0  Yes          HRDT              HIV test   \n",
            "998         Ocean            0.0   No           ARV                 Adult   \n",
            "999           Air            0.0   No          HRDT              HIV test   \n",
            "\n",
            "     ... line_item_quantity line_item_value pack_price unit_price  \\\n",
            "0    ...             2996.0       266644.00      89.00       0.89   \n",
            "1    ...               25.0          800.00      32.00       1.60   \n",
            "2    ...            22925.0       110040.00       4.80       0.08   \n",
            "3    ...           152535.0       361507.95       2.37       0.04   \n",
            "4    ...              850.0            8.50       0.01       0.00   \n",
            "..   ...                ...             ...        ...        ...   \n",
            "995  ...              121.0         9075.00      75.00       0.62   \n",
            "996  ...              292.0         9344.00      32.00       1.60   \n",
            "997  ...             2127.0       170160.00      80.00       0.80   \n",
            "998  ...           191011.0       861459.61       4.51       0.15   \n",
            "999  ...              200.0        14398.00      71.99       0.72   \n",
            "\n",
            "               manufacturing_site first_line_designation  weight_kilograms  \\\n",
            "0         Alere Medical Co., Ltd.                    Yes            1426.0   \n",
            "1            Trinity Biotech, Plc                    Yes              10.0   \n",
            "2    Hetero Unit III Hyderabad IN                    Yes            3723.0   \n",
            "3       Aurobindo Unit III, India                    Yes            7698.0   \n",
            "4                 Inverness Japan                    Yes              56.0   \n",
            "..                            ...                    ...               ...   \n",
            "995     Janssen-Cilag, Latina, IT                    Yes              43.0   \n",
            "996          Trinity Biotech, Plc                    Yes              99.0   \n",
            "997       Alere Medical Co., Ltd.                    Yes             881.0   \n",
            "998     Aurobindo Unit III, India                    Yes           16234.0   \n",
            "999               Inverness Japan                    Yes              46.0   \n",
            "\n",
            "     freight_cost_usd  freight_cost_groups  line_item_insurance_usd  \n",
            "0            33279.83            expensive                   373.83  \n",
            "1              559.89           reasonable                     1.72  \n",
            "2            19056.13            expensive                   181.57  \n",
            "3            11372.23            expensive                   779.41  \n",
            "4              360.00           reasonable                     0.01  \n",
            "..                ...                  ...                      ...  \n",
            "995            199.00           reasonable                    12.72  \n",
            "996           2162.55           reasonable                    13.10  \n",
            "997          14019.38            expensive                   210.49  \n",
            "998          14439.17            expensive                  1421.41  \n",
            "999           1028.18           reasonable                    23.04  \n",
            "\n",
            "[1000 rows x 27 columns]\n"
          ]
        }
      ]
    },
    {
      "cell_type": "markdown",
      "source": [
        "## Hypothesis\n",
        "H0:vendor_inco_term and freight_cost_group are independent.\n",
        "\n",
        "HA: vendor_inco_term and freight_cost_group are associated.\n",
        "\n"
      ],
      "metadata": {
        "id": "DS5p785ZEohU"
      }
    },
    {
      "cell_type": "markdown",
      "source": [
        "## Vendor_inco_term vs freight_cost_group"
      ],
      "metadata": {
        "id": "rNeQQvCkBo47"
      }
    },
    {
      "cell_type": "code",
      "source": [
        "props = late_shipment.groupby('vendor_inco_term')['freight_cost_groups'].value_counts()\n",
        "print(props)"
      ],
      "metadata": {
        "colab": {
          "base_uri": "https://localhost:8080/"
        },
        "id": "B7fG5XAiCNYQ",
        "outputId": "e13245af-6856-40cb-be28-cf709dd42535"
      },
      "execution_count": 6,
      "outputs": [
        {
          "output_type": "stream",
          "name": "stdout",
          "text": [
            "vendor_inco_term  freight_cost_groups\n",
            "CIP               reasonable              34\n",
            "                  expensive               16\n",
            "DDP               expensive               55\n",
            "                  reasonable              45\n",
            "DDU               reasonable               1\n",
            "EXW               expensive              423\n",
            "                  reasonable             302\n",
            "FCA               reasonable              73\n",
            "                  expensive               37\n",
            "Name: freight_cost_groups, dtype: int64\n"
          ]
        }
      ]
    },
    {
      "cell_type": "code",
      "source": [
        "# Convert props to wide format\n",
        "wide_props = props.unstack()\n",
        "\n",
        "# Proportional stacked bar plot of freight_cost_group vs. vendor_inco_term\n",
        "wide_props.plot(kind='bar',stacked=True)\n",
        "plt.show()"
      ],
      "metadata": {
        "colab": {
          "base_uri": "https://localhost:8080/",
          "height": 468
        },
        "id": "Q_hSs9quCe3v",
        "outputId": "18e6b4bc-bad7-4d25-b5cf-e063fb5edf1d"
      },
      "execution_count": 9,
      "outputs": [
        {
          "output_type": "display_data",
          "data": {
            "text/plain": [
              "<Figure size 640x480 with 1 Axes>"
            ],
            "image/png": "[encoded data removed]"
          },
          "metadata": {}
        }
      ]
    },
    {
      "cell_type": "code",
      "source": [
        "#Chi_test\n",
        "expected, observed, stats = pingouin.chi2_independence(data=late_shipment,x='freight_cost_groups',y='vendor_inco_term',correction=False)\n",
        "print(stats[stats['test'] == 'pearson'])"
      ],
      "metadata": {
        "colab": {
          "base_uri": "https://localhost:8080/"
        },
        "id": "YpBsdSmsDpAW",
        "outputId": "5380af96-102f-4d9f-c044-332fe99a657c"
      },
      "execution_count": 11,
      "outputs": [
        {
          "output_type": "stream",
          "name": "stdout",
          "text": [
            "      test  lambda       chi2  dof          pval    cramer     power\n",
            "0  pearson     1.0  34.805072  4.0  5.093922e-07  0.186561  0.999235\n"
          ]
        },
        {
          "output_type": "stream",
          "name": "stderr",
          "text": [
            "/usr/local/lib/python3.10/dist-packages/pingouin/contingency.py:151: UserWarning: Low count on observed frequencies.\n",
            "  warnings.warn(f\"Low count on {name} frequencies.\")\n",
            "/usr/local/lib/python3.10/dist-packages/pingouin/contingency.py:151: UserWarning: Low count on expected frequencies.\n",
            "  warnings.warn(f\"Low count on {name} frequencies.\")\n",
            "/usr/local/lib/python3.10/dist-packages/scipy/stats/_stats_py.py:8073: RuntimeWarning: divide by zero encountered in power\n",
            "  terms = f_obs * ((f_obs / f_exp)**lambda_ - 1)\n",
            "/usr/local/lib/python3.10/dist-packages/scipy/stats/_stats_py.py:8073: RuntimeWarning: invalid value encountered in multiply\n",
            "  terms = f_obs * ((f_obs / f_exp)**lambda_ - 1)\n",
            "/usr/local/lib/python3.10/dist-packages/scipy/stats/_stats_py.py:8070: RuntimeWarning: divide by zero encountered in divide\n",
            "  terms = 2.0 * special.xlogy(f_exp, f_exp / f_obs)\n"
          ]
        }
      ]
    },
    {
      "cell_type": "markdown",
      "source": [
        "Summary: Reject the null hypothesis and conclude that vendor_inco_term and freight_cost_group are associated since pvalue is smaller than alpha.\n"
      ],
      "metadata": {
        "id": "hfLuvlJKElCA"
      }
    }
  ]
}